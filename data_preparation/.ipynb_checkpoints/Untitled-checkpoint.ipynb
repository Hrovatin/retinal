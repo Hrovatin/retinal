{
 "cells": [
  {
   "cell_type": "code",
   "execution_count": 1,
   "metadata": {},
   "outputs": [],
   "source": [
    "library(Seurat)\n",
    "library(Matrix)"
   ]
  },
  {
   "cell_type": "code",
   "execution_count": 2,
   "metadata": {},
   "outputs": [],
   "source": [
    "data_path_ref='/home/khrovatin/retinal/data/counts/'\n",
    "data_path='/home/khrovatin/retinal/data/human/'\n",
    "data_path_shared='/share/LBI_share/public/retina/human\\ snRNAseq\\ data_10x_ChenLab_ZupanLab/humansn_10x_storage/00012_NeuNM_filtered_feature_bc_matrix'"
   ]
  },
  {
   "cell_type": "code",
   "execution_count": 3,
   "metadata": {},
   "outputs": [
    {
     "ename": "ERROR",
     "evalue": "Error: cannot allocate vector of size 1.5 Gb\n",
     "output_type": "error",
     "traceback": [
      "Error: cannot allocate vector of size 1.5 Gb\nTraceback:\n",
      "1. readRDS(paste(data_path_ref, \"scaled_integrated.rds\", sep = \"\"))"
     ]
    }
   ],
   "source": [
    "seurat.obj_int<-readRDS(paste(data_path_ref,'scaled_integrated.rds',sep=''))"
   ]
  },
  {
   "cell_type": "code",
   "execution_count": null,
   "metadata": {},
   "outputs": [],
   "source": [
    "GetAssayData(object = seurat.obj_nb, slot = \"scale.data\")"
   ]
  },
  {
   "cell_type": "code",
   "execution_count": null,
   "metadata": {},
   "outputs": [],
   "source": []
  },
  {
   "cell_type": "code",
   "execution_count": null,
   "metadata": {},
   "outputs": [],
   "source": []
  },
  {
   "cell_type": "code",
   "execution_count": 6,
   "metadata": {},
   "outputs": [
    {
     "name": "stderr",
     "output_type": "stream",
     "text": [
      "Warning message:\n",
      "“Feature names cannot have underscores ('_'), replacing with dashes ('-')”\n"
     ]
    }
   ],
   "source": [
    "expression_matrix <- Read10X(data.dir = data_path_shared)\n",
    "seurat.obj_h = CreateSeuratObject(counts = expression_matrix)"
   ]
  },
  {
   "cell_type": "code",
   "execution_count": 7,
   "metadata": {},
   "outputs": [],
   "source": [
    "seurat_both=list()\n",
    "seurat_both[['ref']]<-seurat.obj_int\n",
    "seurat_both[['sample']]<-seurat.obj_h"
   ]
  },
  {
   "cell_type": "code",
   "execution_count": 8,
   "metadata": {},
   "outputs": [],
   "source": [
    "genes_ref_var=rownames(GetAssayData(object = seurat_both[['ref']], slot = \"scale.data\"))"
   ]
  },
  {
   "cell_type": "code",
   "execution_count": 9,
   "metadata": {},
   "outputs": [
    {
     "data": {
      "text/html": [
       "<ol class=list-inline>\n",
       "\t<li>'NID1'</li>\n",
       "\t<li>'GNG4'</li>\n",
       "\t<li>'IRF2BP2'</li>\n",
       "\t<li>'MSTRG.100'</li>\n",
       "\t<li>'MSTRG.103'</li>\n",
       "\t<li>'C1H1orf198'</li>\n",
       "\t<li>'CAPN9-p'</li>\n",
       "\t<li>'AGT'</li>\n",
       "\t<li>'LOC102130133'</li>\n",
       "\t<li>'MGST3'</li>\n",
       "</ol>\n"
      ],
      "text/latex": [
       "\\begin{enumerate*}\n",
       "\\item 'NID1'\n",
       "\\item 'GNG4'\n",
       "\\item 'IRF2BP2'\n",
       "\\item 'MSTRG.100'\n",
       "\\item 'MSTRG.103'\n",
       "\\item 'C1H1orf198'\n",
       "\\item 'CAPN9-p'\n",
       "\\item 'AGT'\n",
       "\\item 'LOC102130133'\n",
       "\\item 'MGST3'\n",
       "\\end{enumerate*}\n"
      ],
      "text/markdown": [
       "1. 'NID1'\n",
       "2. 'GNG4'\n",
       "3. 'IRF2BP2'\n",
       "4. 'MSTRG.100'\n",
       "5. 'MSTRG.103'\n",
       "6. 'C1H1orf198'\n",
       "7. 'CAPN9-p'\n",
       "8. 'AGT'\n",
       "9. 'LOC102130133'\n",
       "10. 'MGST3'\n",
       "\n",
       "\n"
      ],
      "text/plain": [
       " [1] \"NID1\"         \"GNG4\"         \"IRF2BP2\"      \"MSTRG.100\"    \"MSTRG.103\"   \n",
       " [6] \"C1H1orf198\"   \"CAPN9-p\"      \"AGT\"          \"LOC102130133\" \"MGST3\"       "
      ]
     },
     "metadata": {},
     "output_type": "display_data"
    }
   ],
   "source": [
    "genes_ref_var[1:10]"
   ]
  },
  {
   "cell_type": "code",
   "execution_count": 11,
   "metadata": {},
   "outputs": [],
   "source": [
    "genes_sample<-rownames(seurat_both[['sample']])"
   ]
  },
  {
   "cell_type": "code",
   "execution_count": 13,
   "metadata": {},
   "outputs": [],
   "source": [
    "genes_integration<-intersect(genes_sample,genes_ref_var)"
   ]
  },
  {
   "cell_type": "code",
   "execution_count": 15,
   "metadata": {},
   "outputs": [
    {
     "data": {
      "text/html": [
       "2203"
      ],
      "text/latex": [
       "2203"
      ],
      "text/markdown": [
       "2203"
      ],
      "text/plain": [
       "[1] 2203"
      ]
     },
     "metadata": {},
     "output_type": "display_data"
    }
   ],
   "source": [
    "length(genes_integration)"
   ]
  },
  {
   "cell_type": "code",
   "execution_count": 16,
   "metadata": {},
   "outputs": [
    {
     "data": {
      "text/html": [
       "<ol class=list-inline>\n",
       "\t<li>32738</li>\n",
       "\t<li>11245</li>\n",
       "</ol>\n"
      ],
      "text/latex": [
       "\\begin{enumerate*}\n",
       "\\item 32738\n",
       "\\item 11245\n",
       "\\end{enumerate*}\n"
      ],
      "text/markdown": [
       "1. 32738\n",
       "2. 11245\n",
       "\n",
       "\n"
      ],
      "text/plain": [
       "[1] 32738 11245"
      ]
     },
     "metadata": {},
     "output_type": "display_data"
    }
   ],
   "source": [
    "dim(seurat.obj_h)"
   ]
  },
  {
   "cell_type": "code",
   "execution_count": 17,
   "metadata": {},
   "outputs": [],
   "source": [
    "m<-matrix(c(0,0,1,0), nrow = 2, ncol = 2)"
   ]
  },
  {
   "cell_type": "code",
   "execution_count": 18,
   "metadata": {},
   "outputs": [
    {
     "data": {
      "text/html": [
       "<table>\n",
       "<caption>A matrix: 2 × 2 of type dbl</caption>\n",
       "<tbody>\n",
       "\t<tr><td>0</td><td>1</td></tr>\n",
       "\t<tr><td>0</td><td>0</td></tr>\n",
       "</tbody>\n",
       "</table>\n"
      ],
      "text/latex": [
       "A matrix: 2 × 2 of type dbl\n",
       "\\begin{tabular}{ll}\n",
       "\t 0 & 1\\\\\n",
       "\t 0 & 0\\\\\n",
       "\\end{tabular}\n"
      ],
      "text/markdown": [
       "\n",
       "A matrix: 2 × 2 of type dbl\n",
       "\n",
       "| 0 | 1 |\n",
       "| 0 | 0 |\n",
       "\n"
      ],
      "text/plain": [
       "     [,1] [,2]\n",
       "[1,] 0    1   \n",
       "[2,] 0    0   "
      ]
     },
     "metadata": {},
     "output_type": "display_data"
    }
   ],
   "source": [
    "m"
   ]
  },
  {
   "cell_type": "code",
   "execution_count": 39,
   "metadata": {},
   "outputs": [
    {
     "data": {
      "text/html": [
       "<ol class=list-inline>\n",
       "\t<li>1</li>\n",
       "\t<li>0</li>\n",
       "</ol>\n"
      ],
      "text/latex": [
       "\\begin{enumerate*}\n",
       "\\item 1\n",
       "\\item 0\n",
       "\\end{enumerate*}\n"
      ],
      "text/markdown": [
       "1. 1\n",
       "2. 0\n",
       "\n",
       "\n"
      ],
      "text/plain": [
       "[1] 1 0"
      ]
     },
     "metadata": {},
     "output_type": "display_data"
    }
   ],
   "source": [
    "col_not_null<-colSums(m!=0)\n",
    "keep_cells<-col_not_null>0\n",
    "m[,keep_cells]"
   ]
  },
  {
   "cell_type": "code",
   "execution_count": 35,
   "metadata": {},
   "outputs": [
    {
     "data": {
      "text/html": [
       "<ol class=list-inline>\n",
       "\t<li>0</li>\n",
       "\t<li>1</li>\n",
       "</ol>\n"
      ],
      "text/latex": [
       "\\begin{enumerate*}\n",
       "\\item 0\n",
       "\\item 1\n",
       "\\end{enumerate*}\n"
      ],
      "text/markdown": [
       "1. 0\n",
       "2. 1\n",
       "\n",
       "\n"
      ],
      "text/plain": [
       "[1] 0 1"
      ]
     },
     "metadata": {},
     "output_type": "display_data"
    }
   ],
   "source": [
    "m"
   ]
  },
  {
   "cell_type": "code",
   "execution_count": 8,
   "metadata": {},
   "outputs": [],
   "source": [
    "import numpy as np\n",
    "from sklearn.neighbors import KNeighborsClassifier\n",
    "from collections import OrderedDict\n",
    "from sklearn.metrics import precision_recall_fscore_support as score\n",
    "from sklearn.metrics import roc_auc_score\n",
    "import pandas as pd\n",
    "import h5py\n",
    "\n",
    "import scipy.io\n",
    "\n",
    "\n",
    "from sklearn.linear_model import LogisticRegression"
   ]
  },
  {
   "cell_type": "code",
   "execution_count": 2,
   "metadata": {},
   "outputs": [
    {
     "data": {
      "text/plain": [
       "'0.22'"
      ]
     },
     "execution_count": 2,
     "metadata": {},
     "output_type": "execute_result"
    }
   ],
   "source": [
    "import sklearn\n",
    "sklearn.__version__"
   ]
  },
  {
   "cell_type": "code",
   "execution_count": 19,
   "metadata": {},
   "outputs": [
    {
     "name": "stdout",
     "output_type": "stream",
     "text": [
      "3.7.4\n"
     ]
    }
   ],
   "source": [
    "from platform import python_version\n",
    "\n",
    "print(python_version())"
   ]
  },
  {
   "cell_type": "code",
   "execution_count": 15,
   "metadata": {},
   "outputs": [],
   "source": [
    "m1=np.random.rand(10,2)\n",
    "m2=np.random.rand(10,2)\n",
    "c1=np.random.randint(1,5,10)\n",
    "c2=np.random.randint(1,5,10)"
   ]
  },
  {
   "cell_type": "code",
   "execution_count": 26,
   "metadata": {},
   "outputs": [
    {
     "name": "stdout",
     "output_type": "stream",
     "text": [
      "              class  precision  recall  fscore N true\n",
      "0                 1   0.333333     1.0    0.50      2\n",
      "1                 2   0.333333     1.0    0.50      1\n",
      "2                 3   0.000000     0.0    0.00      4\n",
      "3                 4   0.000000     0.0    0.00      3\n",
      "4  weighted average   0.100000     0.3    0.15   None\n",
      "ROC AUC score (weighted average) 0.6321428571428571\n"
     ]
    },
    {
     "name": "stderr",
     "output_type": "stream",
     "text": [
      "/home/khrovatin/miniconda3/envs/env1/lib/python3.7/site-packages/sklearn/metrics/_classification.py:1268: UndefinedMetricWarning: Precision and F-score are ill-defined and being set to 0.0 in labels with no predicted samples. Use `zero_division` parameter to control this behavior.\n",
      "  _warn_prf(average, modifier, msg_start, len(result))\n"
     ]
    }
   ],
   "source": [
    "\n",
    "\n",
    "classifier = KNeighborsClassifier(weights='distance',n_jobs=4)\n",
    "classifier.fit(m1,c1)\n",
    "prediction=classifier.predict(m2)\n",
    "truth=c2\n",
    "labels=[1,2,3,4]\n",
    "precision, recall, fscore, support = score(y_true=truth, y_pred=prediction,labels=labels)\n",
    "precision_all, recall_all, fscore_all, support_all=score(\n",
    "    y_true=truth, y_pred=prediction,labels=labels,average='weighted')\n",
    "print(pd.DataFrame({'class':np.append(classifier.classes_,'weighted average'),'precision':np.append(precision,precision_all),'recall':np.append(recall,recall_all),\n",
    "                    'fscore':np.append(fscore,fscore_all),\n",
    "                  'N true':np.append(support,support_all)}))\n",
    "prediction_p=classifier.predict_proba(m2)\n",
    "print('ROC AUC score (weighted average)',roc_auc_score(y_true=truth, y_score=prediction_p,multi_class='ovr', average='weighted'))"
   ]
  },
  {
   "cell_type": "code",
   "execution_count": 16,
   "metadata": {},
   "outputs": [
    {
     "data": {
      "text/plain": [
       "array([[0.        , 0.17735374, 0.2734962 , 0.54915006],\n",
       "       [0.        , 0.46258014, 0.38953547, 0.14788439],\n",
       "       [0.        , 0.4298138 , 0.14603594, 0.42415026],\n",
       "       [0.        , 0.41271411, 0.43443305, 0.15285284],\n",
       "       [0.22942029, 0.53123731, 0.        , 0.2393424 ],\n",
       "       [0.        , 0.46811366, 0.        , 0.53188634],\n",
       "       [0.1793045 , 0.58336388, 0.        , 0.23733162],\n",
       "       [0.17445508, 0.25585949, 0.        , 0.56968543],\n",
       "       [0.        , 0.52151673, 0.22719646, 0.25128681],\n",
       "       [0.25058095, 0.29896958, 0.23762105, 0.21282843]])"
      ]
     },
     "execution_count": 16,
     "metadata": {},
     "output_type": "execute_result"
    }
   ],
   "source": [
    "classifier.predict_proba(m2)"
   ]
  },
  {
   "cell_type": "code",
   "execution_count": 18,
   "metadata": {},
   "outputs": [
    {
     "data": {
      "text/plain": [
       "array([1, 2, 3, 4])"
      ]
     },
     "execution_count": 18,
     "metadata": {},
     "output_type": "execute_result"
    }
   ],
   "source": [
    "classifier.classes_"
   ]
  },
  {
   "cell_type": "code",
   "execution_count": 8,
   "metadata": {},
   "outputs": [],
   "source": [
    "m=sp.io.mmread('/share/LBI_share/public/retina/human snRNAseq data_10x_ChenLab_ZupanLab/humansn_10x_storage/00012_NeuNM_filtered_feature_bc_matrix/matrix.mtx.gz')"
   ]
  },
  {
   "cell_type": "code",
   "execution_count": 13,
   "metadata": {},
   "outputs": [
    {
     "ename": "AttributeError",
     "evalue": "'DataFrame' object has no attribute 'tocsc'",
     "output_type": "error",
     "traceback": [
      "\u001b[0;31m---------------------------------------------------------------------------\u001b[0m",
      "\u001b[0;31mAttributeError\u001b[0m                            Traceback (most recent call last)",
      "\u001b[0;32m<ipython-input-13-fad9b8dc5093>\u001b[0m in \u001b[0;36m<module>\u001b[0;34m\u001b[0m\n\u001b[0;32m----> 1\u001b[0;31m \u001b[0mm\u001b[0m\u001b[0;34m=\u001b[0m\u001b[0mpd\u001b[0m\u001b[0;34m.\u001b[0m\u001b[0mDataFrame\u001b[0m\u001b[0;34m.\u001b[0m\u001b[0msparse\u001b[0m\u001b[0;34m.\u001b[0m\u001b[0mfrom_spmatrix\u001b[0m\u001b[0;34m(\u001b[0m\u001b[0mm\u001b[0m\u001b[0;34m)\u001b[0m\u001b[0;34m.\u001b[0m\u001b[0mT\u001b[0m\u001b[0;34m\u001b[0m\u001b[0;34m\u001b[0m\u001b[0m\n\u001b[0m",
      "\u001b[0;32m~/miniconda3/lib/python3.7/site-packages/pandas/core/arrays/sparse.py\u001b[0m in \u001b[0;36mfrom_spmatrix\u001b[0;34m(cls, data, index, columns)\u001b[0m\n\u001b[1;32m   2167\u001b[0m         \u001b[0;32mfrom\u001b[0m \u001b[0mpandas\u001b[0m \u001b[0;32mimport\u001b[0m \u001b[0mDataFrame\u001b[0m\u001b[0;34m\u001b[0m\u001b[0;34m\u001b[0m\u001b[0m\n\u001b[1;32m   2168\u001b[0m \u001b[0;34m\u001b[0m\u001b[0m\n\u001b[0;32m-> 2169\u001b[0;31m         \u001b[0mdata\u001b[0m \u001b[0;34m=\u001b[0m \u001b[0mdata\u001b[0m\u001b[0;34m.\u001b[0m\u001b[0mtocsc\u001b[0m\u001b[0;34m(\u001b[0m\u001b[0;34m)\u001b[0m\u001b[0;34m\u001b[0m\u001b[0;34m\u001b[0m\u001b[0m\n\u001b[0m\u001b[1;32m   2170\u001b[0m         \u001b[0mindex\u001b[0m\u001b[0;34m,\u001b[0m \u001b[0mcolumns\u001b[0m \u001b[0;34m=\u001b[0m \u001b[0mcls\u001b[0m\u001b[0;34m.\u001b[0m\u001b[0m_prep_index\u001b[0m\u001b[0;34m(\u001b[0m\u001b[0mdata\u001b[0m\u001b[0;34m,\u001b[0m \u001b[0mindex\u001b[0m\u001b[0;34m,\u001b[0m \u001b[0mcolumns\u001b[0m\u001b[0;34m)\u001b[0m\u001b[0;34m\u001b[0m\u001b[0;34m\u001b[0m\u001b[0m\n\u001b[1;32m   2171\u001b[0m         \u001b[0msparrays\u001b[0m \u001b[0;34m=\u001b[0m \u001b[0;34m[\u001b[0m\u001b[0mSparseArray\u001b[0m\u001b[0;34m.\u001b[0m\u001b[0mfrom_spmatrix\u001b[0m\u001b[0;34m(\u001b[0m\u001b[0mdata\u001b[0m\u001b[0;34m[\u001b[0m\u001b[0;34m:\u001b[0m\u001b[0;34m,\u001b[0m \u001b[0mi\u001b[0m\u001b[0;34m]\u001b[0m\u001b[0;34m)\u001b[0m \u001b[0;32mfor\u001b[0m \u001b[0mi\u001b[0m \u001b[0;32min\u001b[0m \u001b[0mrange\u001b[0m\u001b[0;34m(\u001b[0m\u001b[0mdata\u001b[0m\u001b[0;34m.\u001b[0m\u001b[0mshape\u001b[0m\u001b[0;34m[\u001b[0m\u001b[0;36m1\u001b[0m\u001b[0;34m]\u001b[0m\u001b[0;34m)\u001b[0m\u001b[0;34m]\u001b[0m\u001b[0;34m\u001b[0m\u001b[0;34m\u001b[0m\u001b[0m\n",
      "\u001b[0;32m~/miniconda3/lib/python3.7/site-packages/pandas/core/generic.py\u001b[0m in \u001b[0;36m__getattr__\u001b[0;34m(self, name)\u001b[0m\n\u001b[1;32m   5177\u001b[0m             \u001b[0;32mif\u001b[0m \u001b[0mself\u001b[0m\u001b[0;34m.\u001b[0m\u001b[0m_info_axis\u001b[0m\u001b[0;34m.\u001b[0m\u001b[0m_can_hold_identifiers_and_holds_name\u001b[0m\u001b[0;34m(\u001b[0m\u001b[0mname\u001b[0m\u001b[0;34m)\u001b[0m\u001b[0;34m:\u001b[0m\u001b[0;34m\u001b[0m\u001b[0;34m\u001b[0m\u001b[0m\n\u001b[1;32m   5178\u001b[0m                 \u001b[0;32mreturn\u001b[0m \u001b[0mself\u001b[0m\u001b[0;34m[\u001b[0m\u001b[0mname\u001b[0m\u001b[0;34m]\u001b[0m\u001b[0;34m\u001b[0m\u001b[0;34m\u001b[0m\u001b[0m\n\u001b[0;32m-> 5179\u001b[0;31m             \u001b[0;32mreturn\u001b[0m \u001b[0mobject\u001b[0m\u001b[0;34m.\u001b[0m\u001b[0m__getattribute__\u001b[0m\u001b[0;34m(\u001b[0m\u001b[0mself\u001b[0m\u001b[0;34m,\u001b[0m \u001b[0mname\u001b[0m\u001b[0;34m)\u001b[0m\u001b[0;34m\u001b[0m\u001b[0;34m\u001b[0m\u001b[0m\n\u001b[0m\u001b[1;32m   5180\u001b[0m \u001b[0;34m\u001b[0m\u001b[0m\n\u001b[1;32m   5181\u001b[0m     \u001b[0;32mdef\u001b[0m \u001b[0m__setattr__\u001b[0m\u001b[0;34m(\u001b[0m\u001b[0mself\u001b[0m\u001b[0;34m,\u001b[0m \u001b[0mname\u001b[0m\u001b[0;34m,\u001b[0m \u001b[0mvalue\u001b[0m\u001b[0;34m)\u001b[0m\u001b[0;34m:\u001b[0m\u001b[0;34m\u001b[0m\u001b[0;34m\u001b[0m\u001b[0m\n",
      "\u001b[0;31mAttributeError\u001b[0m: 'DataFrame' object has no attribute 'tocsc'"
     ]
    }
   ],
   "source": [
    "m=pd.DataFrame.sparse.from_spmatrix(m).T"
   ]
  },
  {
   "cell_type": "code",
   "execution_count": 22,
   "metadata": {},
   "outputs": [],
   "source": [
    "m.columns=pd.read_table('/share/LBI_share/public/retina/human snRNAseq data_10x_ChenLab_ZupanLab/humansn_10x_storage/00012_NeuNM_filtered_feature_bc_matrix/features.tsv.gz',header=None)[1]"
   ]
  },
  {
   "cell_type": "code",
   "execution_count": 25,
   "metadata": {},
   "outputs": [],
   "source": [
    "m.index=pd.read_table('/share/LBI_share/public/retina/human snRNAseq data_10x_ChenLab_ZupanLab/humansn_10x_storage/00012_NeuNM_filtered_feature_bc_matrix/barcodes.tsv.gz',header=None)[0]"
   ]
  },
  {
   "cell_type": "code",
   "execution_count": 26,
   "metadata": {},
   "outputs": [
    {
     "data": {
      "text/html": [
       "<div>\n",
       "<style scoped>\n",
       "    .dataframe tbody tr th:only-of-type {\n",
       "        vertical-align: middle;\n",
       "    }\n",
       "\n",
       "    .dataframe tbody tr th {\n",
       "        vertical-align: top;\n",
       "    }\n",
       "\n",
       "    .dataframe thead th {\n",
       "        text-align: right;\n",
       "    }\n",
       "</style>\n",
       "<table border=\"1\" class=\"dataframe\">\n",
       "  <thead>\n",
       "    <tr style=\"text-align: right;\">\n",
       "      <th>1</th>\n",
       "      <th>MIR1302-10</th>\n",
       "      <th>FAM138A</th>\n",
       "      <th>OR4F5</th>\n",
       "      <th>RP11-34P13.7</th>\n",
       "      <th>RP11-34P13.8</th>\n",
       "      <th>AL627309.1</th>\n",
       "      <th>RP11-34P13.14</th>\n",
       "      <th>RP11-34P13.9</th>\n",
       "      <th>AP006222.2</th>\n",
       "      <th>RP4-669L17.10</th>\n",
       "      <th>...</th>\n",
       "      <th>KIR3DL2</th>\n",
       "      <th>AL590523.1</th>\n",
       "      <th>CT476828.1</th>\n",
       "      <th>PNRC2</th>\n",
       "      <th>SRSF10</th>\n",
       "      <th>AC145205.1</th>\n",
       "      <th>BAGE5</th>\n",
       "      <th>CU459201.1</th>\n",
       "      <th>AC002321.2</th>\n",
       "      <th>AC002321.1</th>\n",
       "    </tr>\n",
       "    <tr>\n",
       "      <th>0</th>\n",
       "      <th></th>\n",
       "      <th></th>\n",
       "      <th></th>\n",
       "      <th></th>\n",
       "      <th></th>\n",
       "      <th></th>\n",
       "      <th></th>\n",
       "      <th></th>\n",
       "      <th></th>\n",
       "      <th></th>\n",
       "      <th></th>\n",
       "      <th></th>\n",
       "      <th></th>\n",
       "      <th></th>\n",
       "      <th></th>\n",
       "      <th></th>\n",
       "      <th></th>\n",
       "      <th></th>\n",
       "      <th></th>\n",
       "      <th></th>\n",
       "      <th></th>\n",
       "    </tr>\n",
       "  </thead>\n",
       "  <tbody>\n",
       "    <tr>\n",
       "      <th>AAACCCAAGAATAACC-1</th>\n",
       "      <td>0</td>\n",
       "      <td>0</td>\n",
       "      <td>0</td>\n",
       "      <td>0</td>\n",
       "      <td>0</td>\n",
       "      <td>0</td>\n",
       "      <td>0</td>\n",
       "      <td>0</td>\n",
       "      <td>0</td>\n",
       "      <td>0</td>\n",
       "      <td>...</td>\n",
       "      <td>0</td>\n",
       "      <td>0</td>\n",
       "      <td>0</td>\n",
       "      <td>0</td>\n",
       "      <td>0</td>\n",
       "      <td>0</td>\n",
       "      <td>0</td>\n",
       "      <td>0</td>\n",
       "      <td>0</td>\n",
       "      <td>0</td>\n",
       "    </tr>\n",
       "    <tr>\n",
       "      <th>AAACCCAAGTCCTGCG-1</th>\n",
       "      <td>0</td>\n",
       "      <td>0</td>\n",
       "      <td>0</td>\n",
       "      <td>0</td>\n",
       "      <td>0</td>\n",
       "      <td>0</td>\n",
       "      <td>0</td>\n",
       "      <td>0</td>\n",
       "      <td>0</td>\n",
       "      <td>0</td>\n",
       "      <td>...</td>\n",
       "      <td>0</td>\n",
       "      <td>0</td>\n",
       "      <td>0</td>\n",
       "      <td>0</td>\n",
       "      <td>0</td>\n",
       "      <td>0</td>\n",
       "      <td>0</td>\n",
       "      <td>0</td>\n",
       "      <td>0</td>\n",
       "      <td>0</td>\n",
       "    </tr>\n",
       "    <tr>\n",
       "      <th>AAACCCAAGTCTAACC-1</th>\n",
       "      <td>0</td>\n",
       "      <td>0</td>\n",
       "      <td>0</td>\n",
       "      <td>0</td>\n",
       "      <td>0</td>\n",
       "      <td>0</td>\n",
       "      <td>0</td>\n",
       "      <td>0</td>\n",
       "      <td>1</td>\n",
       "      <td>0</td>\n",
       "      <td>...</td>\n",
       "      <td>0</td>\n",
       "      <td>0</td>\n",
       "      <td>0</td>\n",
       "      <td>0</td>\n",
       "      <td>0</td>\n",
       "      <td>0</td>\n",
       "      <td>0</td>\n",
       "      <td>0</td>\n",
       "      <td>0</td>\n",
       "      <td>0</td>\n",
       "    </tr>\n",
       "    <tr>\n",
       "      <th>AAACCCACAAGAAACT-1</th>\n",
       "      <td>0</td>\n",
       "      <td>0</td>\n",
       "      <td>0</td>\n",
       "      <td>0</td>\n",
       "      <td>0</td>\n",
       "      <td>0</td>\n",
       "      <td>0</td>\n",
       "      <td>0</td>\n",
       "      <td>0</td>\n",
       "      <td>0</td>\n",
       "      <td>...</td>\n",
       "      <td>0</td>\n",
       "      <td>0</td>\n",
       "      <td>0</td>\n",
       "      <td>0</td>\n",
       "      <td>0</td>\n",
       "      <td>0</td>\n",
       "      <td>0</td>\n",
       "      <td>0</td>\n",
       "      <td>0</td>\n",
       "      <td>0</td>\n",
       "    </tr>\n",
       "    <tr>\n",
       "      <th>AAACCCACAAGAGTAT-1</th>\n",
       "      <td>0</td>\n",
       "      <td>0</td>\n",
       "      <td>0</td>\n",
       "      <td>0</td>\n",
       "      <td>0</td>\n",
       "      <td>0</td>\n",
       "      <td>0</td>\n",
       "      <td>0</td>\n",
       "      <td>0</td>\n",
       "      <td>0</td>\n",
       "      <td>...</td>\n",
       "      <td>0</td>\n",
       "      <td>0</td>\n",
       "      <td>0</td>\n",
       "      <td>0</td>\n",
       "      <td>0</td>\n",
       "      <td>0</td>\n",
       "      <td>0</td>\n",
       "      <td>0</td>\n",
       "      <td>0</td>\n",
       "      <td>0</td>\n",
       "    </tr>\n",
       "    <tr>\n",
       "      <th>...</th>\n",
       "      <td>...</td>\n",
       "      <td>...</td>\n",
       "      <td>...</td>\n",
       "      <td>...</td>\n",
       "      <td>...</td>\n",
       "      <td>...</td>\n",
       "      <td>...</td>\n",
       "      <td>...</td>\n",
       "      <td>...</td>\n",
       "      <td>...</td>\n",
       "      <td>...</td>\n",
       "      <td>...</td>\n",
       "      <td>...</td>\n",
       "      <td>...</td>\n",
       "      <td>...</td>\n",
       "      <td>...</td>\n",
       "      <td>...</td>\n",
       "      <td>...</td>\n",
       "      <td>...</td>\n",
       "      <td>...</td>\n",
       "      <td>...</td>\n",
       "    </tr>\n",
       "    <tr>\n",
       "      <th>TTTGTTGTCACTCGAA-1</th>\n",
       "      <td>0</td>\n",
       "      <td>0</td>\n",
       "      <td>0</td>\n",
       "      <td>0</td>\n",
       "      <td>0</td>\n",
       "      <td>0</td>\n",
       "      <td>0</td>\n",
       "      <td>0</td>\n",
       "      <td>0</td>\n",
       "      <td>0</td>\n",
       "      <td>...</td>\n",
       "      <td>0</td>\n",
       "      <td>0</td>\n",
       "      <td>0</td>\n",
       "      <td>0</td>\n",
       "      <td>1</td>\n",
       "      <td>0</td>\n",
       "      <td>0</td>\n",
       "      <td>0</td>\n",
       "      <td>0</td>\n",
       "      <td>0</td>\n",
       "    </tr>\n",
       "    <tr>\n",
       "      <th>TTTGTTGTCATAAGGA-1</th>\n",
       "      <td>0</td>\n",
       "      <td>0</td>\n",
       "      <td>0</td>\n",
       "      <td>0</td>\n",
       "      <td>0</td>\n",
       "      <td>0</td>\n",
       "      <td>0</td>\n",
       "      <td>0</td>\n",
       "      <td>0</td>\n",
       "      <td>0</td>\n",
       "      <td>...</td>\n",
       "      <td>0</td>\n",
       "      <td>0</td>\n",
       "      <td>0</td>\n",
       "      <td>0</td>\n",
       "      <td>1</td>\n",
       "      <td>0</td>\n",
       "      <td>0</td>\n",
       "      <td>0</td>\n",
       "      <td>0</td>\n",
       "      <td>0</td>\n",
       "    </tr>\n",
       "    <tr>\n",
       "      <th>TTTGTTGTCATGCATG-1</th>\n",
       "      <td>0</td>\n",
       "      <td>0</td>\n",
       "      <td>0</td>\n",
       "      <td>0</td>\n",
       "      <td>0</td>\n",
       "      <td>0</td>\n",
       "      <td>0</td>\n",
       "      <td>0</td>\n",
       "      <td>0</td>\n",
       "      <td>0</td>\n",
       "      <td>...</td>\n",
       "      <td>0</td>\n",
       "      <td>0</td>\n",
       "      <td>0</td>\n",
       "      <td>0</td>\n",
       "      <td>0</td>\n",
       "      <td>0</td>\n",
       "      <td>0</td>\n",
       "      <td>0</td>\n",
       "      <td>0</td>\n",
       "      <td>0</td>\n",
       "    </tr>\n",
       "    <tr>\n",
       "      <th>TTTGTTGTCCCAGGCA-1</th>\n",
       "      <td>0</td>\n",
       "      <td>0</td>\n",
       "      <td>0</td>\n",
       "      <td>0</td>\n",
       "      <td>0</td>\n",
       "      <td>0</td>\n",
       "      <td>0</td>\n",
       "      <td>0</td>\n",
       "      <td>0</td>\n",
       "      <td>0</td>\n",
       "      <td>...</td>\n",
       "      <td>0</td>\n",
       "      <td>0</td>\n",
       "      <td>0</td>\n",
       "      <td>0</td>\n",
       "      <td>0</td>\n",
       "      <td>0</td>\n",
       "      <td>0</td>\n",
       "      <td>0</td>\n",
       "      <td>0</td>\n",
       "      <td>0</td>\n",
       "    </tr>\n",
       "    <tr>\n",
       "      <th>TTTGTTGTCGTGACTA-1</th>\n",
       "      <td>0</td>\n",
       "      <td>0</td>\n",
       "      <td>0</td>\n",
       "      <td>0</td>\n",
       "      <td>0</td>\n",
       "      <td>0</td>\n",
       "      <td>0</td>\n",
       "      <td>0</td>\n",
       "      <td>0</td>\n",
       "      <td>0</td>\n",
       "      <td>...</td>\n",
       "      <td>0</td>\n",
       "      <td>0</td>\n",
       "      <td>0</td>\n",
       "      <td>0</td>\n",
       "      <td>0</td>\n",
       "      <td>0</td>\n",
       "      <td>0</td>\n",
       "      <td>0</td>\n",
       "      <td>0</td>\n",
       "      <td>0</td>\n",
       "    </tr>\n",
       "  </tbody>\n",
       "</table>\n",
       "<p>11245 rows × 32738 columns</p>\n",
       "</div>"
      ],
      "text/plain": [
       "1                   MIR1302-10  FAM138A  OR4F5  RP11-34P13.7  RP11-34P13.8  \\\n",
       "0                                                                            \n",
       "AAACCCAAGAATAACC-1           0        0      0             0             0   \n",
       "AAACCCAAGTCCTGCG-1           0        0      0             0             0   \n",
       "AAACCCAAGTCTAACC-1           0        0      0             0             0   \n",
       "AAACCCACAAGAAACT-1           0        0      0             0             0   \n",
       "AAACCCACAAGAGTAT-1           0        0      0             0             0   \n",
       "...                        ...      ...    ...           ...           ...   \n",
       "TTTGTTGTCACTCGAA-1           0        0      0             0             0   \n",
       "TTTGTTGTCATAAGGA-1           0        0      0             0             0   \n",
       "TTTGTTGTCATGCATG-1           0        0      0             0             0   \n",
       "TTTGTTGTCCCAGGCA-1           0        0      0             0             0   \n",
       "TTTGTTGTCGTGACTA-1           0        0      0             0             0   \n",
       "\n",
       "1                   AL627309.1  RP11-34P13.14  RP11-34P13.9  AP006222.2  \\\n",
       "0                                                                         \n",
       "AAACCCAAGAATAACC-1           0              0             0           0   \n",
       "AAACCCAAGTCCTGCG-1           0              0             0           0   \n",
       "AAACCCAAGTCTAACC-1           0              0             0           1   \n",
       "AAACCCACAAGAAACT-1           0              0             0           0   \n",
       "AAACCCACAAGAGTAT-1           0              0             0           0   \n",
       "...                        ...            ...           ...         ...   \n",
       "TTTGTTGTCACTCGAA-1           0              0             0           0   \n",
       "TTTGTTGTCATAAGGA-1           0              0             0           0   \n",
       "TTTGTTGTCATGCATG-1           0              0             0           0   \n",
       "TTTGTTGTCCCAGGCA-1           0              0             0           0   \n",
       "TTTGTTGTCGTGACTA-1           0              0             0           0   \n",
       "\n",
       "1                   RP4-669L17.10  ...  KIR3DL2  AL590523.1  CT476828.1  \\\n",
       "0                                  ...                                    \n",
       "AAACCCAAGAATAACC-1              0  ...        0           0           0   \n",
       "AAACCCAAGTCCTGCG-1              0  ...        0           0           0   \n",
       "AAACCCAAGTCTAACC-1              0  ...        0           0           0   \n",
       "AAACCCACAAGAAACT-1              0  ...        0           0           0   \n",
       "AAACCCACAAGAGTAT-1              0  ...        0           0           0   \n",
       "...                           ...  ...      ...         ...         ...   \n",
       "TTTGTTGTCACTCGAA-1              0  ...        0           0           0   \n",
       "TTTGTTGTCATAAGGA-1              0  ...        0           0           0   \n",
       "TTTGTTGTCATGCATG-1              0  ...        0           0           0   \n",
       "TTTGTTGTCCCAGGCA-1              0  ...        0           0           0   \n",
       "TTTGTTGTCGTGACTA-1              0  ...        0           0           0   \n",
       "\n",
       "1                   PNRC2  SRSF10  AC145205.1  BAGE5  CU459201.1  AC002321.2  \\\n",
       "0                                                                              \n",
       "AAACCCAAGAATAACC-1      0       0           0      0           0           0   \n",
       "AAACCCAAGTCCTGCG-1      0       0           0      0           0           0   \n",
       "AAACCCAAGTCTAACC-1      0       0           0      0           0           0   \n",
       "AAACCCACAAGAAACT-1      0       0           0      0           0           0   \n",
       "AAACCCACAAGAGTAT-1      0       0           0      0           0           0   \n",
       "...                   ...     ...         ...    ...         ...         ...   \n",
       "TTTGTTGTCACTCGAA-1      0       1           0      0           0           0   \n",
       "TTTGTTGTCATAAGGA-1      0       1           0      0           0           0   \n",
       "TTTGTTGTCATGCATG-1      0       0           0      0           0           0   \n",
       "TTTGTTGTCCCAGGCA-1      0       0           0      0           0           0   \n",
       "TTTGTTGTCGTGACTA-1      0       0           0      0           0           0   \n",
       "\n",
       "1                   AC002321.1  \n",
       "0                               \n",
       "AAACCCAAGAATAACC-1           0  \n",
       "AAACCCAAGTCCTGCG-1           0  \n",
       "AAACCCAAGTCTAACC-1           0  \n",
       "AAACCCACAAGAAACT-1           0  \n",
       "AAACCCACAAGAGTAT-1           0  \n",
       "...                        ...  \n",
       "TTTGTTGTCACTCGAA-1           0  \n",
       "TTTGTTGTCATAAGGA-1           0  \n",
       "TTTGTTGTCATGCATG-1           0  \n",
       "TTTGTTGTCCCAGGCA-1           0  \n",
       "TTTGTTGTCGTGACTA-1           0  \n",
       "\n",
       "[11245 rows x 32738 columns]"
      ]
     },
     "execution_count": 26,
     "metadata": {},
     "output_type": "execute_result"
    }
   ],
   "source": [
    "m"
   ]
  },
  {
   "cell_type": "code",
   "execution_count": 16,
   "metadata": {},
   "outputs": [],
   "source": [
    "data_path='/home/khrovatin/retinal/data/counts/'\n",
    "with h5py.File(data_path+'normalisedlog.h5','r') as file:    \n",
    "    data_norm=pd.DataFrame(file.get('ref/matrix')[:200,:])\n",
    "    data_norm.columns=[name.decode() for name in file.get('ref/rownames')]\n",
    "    data_norm.index=[name.decode() for name in file.get('ref/colnames')[:200]]\n",
    "    \n",
    "    data_norm_h=pd.DataFrame(file.get('00012_NeuNM/matrix')[:200,:])\n",
    "    data_norm_h.columns=[name.decode() for name in file.get('00012_NeuNM/rownames')]\n",
    "    data_norm_h.index=[name.decode() for name in file.get('00012_NeuNM/colnames')[:200]]"
   ]
  },
  {
   "cell_type": "code",
   "execution_count": 7,
   "metadata": {},
   "outputs": [],
   "source": [
    "col_data=pd.read_table(data_path+'passedQC_cellData.tsv',index_col=0)\n",
    "col_by_region=col_data.groupby('region')\n",
    "fov_cells=col_by_region.get_group('fov').index\n",
    "per_cells=col_by_region.get_group('per').index"
   ]
  },
  {
   "cell_type": "code",
   "execution_count": 23,
   "metadata": {},
   "outputs": [
    {
     "name": "stderr",
     "output_type": "stream",
     "text": [
      "/home/khrovatin/miniconda3/envs/env1/lib/python3.7/site-packages/sklearn/linear_model/_sag.py:330: ConvergenceWarning: The max_iter was reached which means the coef_ did not converge\n",
      "  \"the coef_ did not converge\", ConvergenceWarning)\n"
     ]
    }
   ],
   "source": [
    "log_reg=LogisticRegression(penalty='l1',C=0.8,random_state=0,solver='saga',n_jobs=4).fit(\n",
    "    data_norm, col_data.iloc[np.random.randint(1,150000,200),:]['cell_type'])"
   ]
  },
  {
   "cell_type": "code",
   "execution_count": 39,
   "metadata": {},
   "outputs": [],
   "source": [
    "def make_log_regression(data1,data2,col_data,label='cell_type',\n",
    "                        logreg={'penalty':'l1','C':0.8,'random_state':0,'solver':'saga','n_jobs':8}):\n",
    "    log_reg=LogisticRegression(**logreg).fit(data1, col_data.loc[data1.index,label])\n",
    "    print('** Statistics train **')\n",
    "    evaluate_classifier(classifier=log_reg,data=data1,col_data=col_data,label=label)\n",
    "    print('** Statistics test **')\n",
    "    evaluate_classifier(classifier=log_reg,data=data2,col_data=col_data,label=label)\n",
    "    return log_reg\n",
    "    \n",
    "    \n",
    "def evaluate_classifier(classifier,data,col_data,label):\n",
    "    prediction=classifier.predict(data)\n",
    "    truth=list(col_data.loc[data.index,label].values)\n",
    "    labels=list(set(col_data.loc[data.index,label]))\n",
    "    precision, recall, fscore, support = score(y_true=truth, y_pred=prediction,labels=labels)\n",
    "    precision_all, recall_all, fscore_all, support_all=score(\n",
    "        y_true=truth, y_pred=prediction,labels=labels,average='weighted')\n",
    "    print(pd.DataFrame({'class':np.append(classifier.classes_,\n",
    "               'weighted average'),'precision':np.append(precision,precision_all),\n",
    "             'recall':np.append(recall,recall_all),\n",
    "             'fscore':np.append(fscore,fscore_all),\n",
    "            'N true':np.append(support,support_all)}))\n",
    "    prediction_p=classifier.predict_proba(data)\n",
    "    print('ROC AUC score (weighted average)',roc_auc_score(y_true=truth, y_score=prediction_p,\n",
    "                                                           multi_class='ovr', average='weighted'))\n"
   ]
  },
  {
   "cell_type": "code",
   "execution_count": 40,
   "metadata": {},
   "outputs": [
    {
     "name": "stdout",
     "output_type": "stream",
     "text": [
      "** Statistics train **\n",
      "** Statistics test **\n"
     ]
    },
    {
     "name": "stderr",
     "output_type": "stream",
     "text": [
      "/home/khrovatin/miniconda3/envs/env1/lib/python3.7/site-packages/sklearn/linear_model/_sag.py:330: ConvergenceWarning: The max_iter was reached which means the coef_ did not converge\n",
      "  \"the coef_ did not converge\", ConvergenceWarning)\n"
     ]
    }
   ],
   "source": [
    "classifier=make_log_regression(data_norm,data_norm,pd.DataFrame(['a','b']*100,index=data_norm.index),label=0)"
   ]
  },
  {
   "cell_type": "code",
   "execution_count": 41,
   "metadata": {},
   "outputs": [],
   "source": [
    "#data_norm,data_norm,pd.DataFrame(['a','b']*100,index=data_norm.index),label=0\n",
    "cd=data_norm,pd.DataFrame(['a','b']*100,index=data_norm.index)"
   ]
  },
  {
   "cell_type": "code",
   "execution_count": null,
   "metadata": {},
   "outputs": [],
   "source": [
    "label=0\n",
    "prediction=log_reg.predict(data_norm)\n",
    "truth=list(cd.loc[data_norm.index,label].values)\n",
    "labels=list(set(cd.loc[data.index,label]))\n",
    "print('ROC AUC score (weighted average)',roc_auc_score(y_true=truth, y_score=prediction_p,\n",
    "                                                           multi_class='ovr', average='weighted'))\n"
   ]
  },
  {
   "cell_type": "code",
   "execution_count": 34,
   "metadata": {},
   "outputs": [
    {
     "data": {
      "text/html": [
       "<div>\n",
       "<style scoped>\n",
       "    .dataframe tbody tr th:only-of-type {\n",
       "        vertical-align: middle;\n",
       "    }\n",
       "\n",
       "    .dataframe tbody tr th {\n",
       "        vertical-align: top;\n",
       "    }\n",
       "\n",
       "    .dataframe thead th {\n",
       "        text-align: right;\n",
       "    }\n",
       "</style>\n",
       "<table border=\"1\" class=\"dataframe\">\n",
       "  <thead>\n",
       "    <tr style=\"text-align: right;\">\n",
       "      <th></th>\n",
       "      <th>0</th>\n",
       "    </tr>\n",
       "  </thead>\n",
       "  <tbody>\n",
       "    <tr>\n",
       "      <th>M1CD90PNA_S1_AACTGGTAGTGGTCCC.1</th>\n",
       "      <td>a</td>\n",
       "    </tr>\n",
       "    <tr>\n",
       "      <th>M1CD90PNA_S1_AAGACCTTCTCTTATG.1</th>\n",
       "      <td>b</td>\n",
       "    </tr>\n",
       "    <tr>\n",
       "      <th>M1CD90PNA_S1_AAGGAGCAGTAGGCCA.1</th>\n",
       "      <td>a</td>\n",
       "    </tr>\n",
       "    <tr>\n",
       "      <th>M1CD90PNA_S1_AAGGTTCAGAGTCGGT.1</th>\n",
       "      <td>b</td>\n",
       "    </tr>\n",
       "    <tr>\n",
       "      <th>M1CD90PNA_S1_AAGTCTGCACGCCAGT.1</th>\n",
       "      <td>a</td>\n",
       "    </tr>\n",
       "    <tr>\n",
       "      <th>...</th>\n",
       "      <td>...</td>\n",
       "    </tr>\n",
       "    <tr>\n",
       "      <th>M1PerCD73S1_AAACGGGAGGCCCTCA.1</th>\n",
       "      <td>b</td>\n",
       "    </tr>\n",
       "    <tr>\n",
       "      <th>M1PerCD73S1_AAACGGGAGGCTATCT.1</th>\n",
       "      <td>a</td>\n",
       "    </tr>\n",
       "    <tr>\n",
       "      <th>M1PerCD73S1_AAAGATGTCAGCGACC.1</th>\n",
       "      <td>b</td>\n",
       "    </tr>\n",
       "    <tr>\n",
       "      <th>M1PerCD73S1_AAAGCAAAGGACAGAA.1</th>\n",
       "      <td>a</td>\n",
       "    </tr>\n",
       "    <tr>\n",
       "      <th>M1PerCD73S1_AAAGCAACAGTTCCCT.1</th>\n",
       "      <td>b</td>\n",
       "    </tr>\n",
       "  </tbody>\n",
       "</table>\n",
       "<p>200 rows × 1 columns</p>\n",
       "</div>"
      ],
      "text/plain": [
       "                                 0\n",
       "M1CD90PNA_S1_AACTGGTAGTGGTCCC.1  a\n",
       "M1CD90PNA_S1_AAGACCTTCTCTTATG.1  b\n",
       "M1CD90PNA_S1_AAGGAGCAGTAGGCCA.1  a\n",
       "M1CD90PNA_S1_AAGGTTCAGAGTCGGT.1  b\n",
       "M1CD90PNA_S1_AAGTCTGCACGCCAGT.1  a\n",
       "...                             ..\n",
       "M1PerCD73S1_AAACGGGAGGCCCTCA.1   b\n",
       "M1PerCD73S1_AAACGGGAGGCTATCT.1   a\n",
       "M1PerCD73S1_AAAGATGTCAGCGACC.1   b\n",
       "M1PerCD73S1_AAAGCAAAGGACAGAA.1   a\n",
       "M1PerCD73S1_AAAGCAACAGTTCCCT.1   b\n",
       "\n",
       "[200 rows x 1 columns]"
      ]
     },
     "execution_count": 34,
     "metadata": {},
     "output_type": "execute_result"
    }
   ],
   "source": [
    "pd.DataFrame(['a','b']*100,index=data_norm.index)"
   ]
  },
  {
   "cell_type": "code",
   "execution_count": null,
   "metadata": {},
   "outputs": [],
   "source": []
  }
 ],
 "metadata": {
  "kernelspec": {
   "display_name": "Python 3",
   "language": "python",
   "name": "python3"
  },
  "language_info": {
   "codemirror_mode": {
    "name": "ipython",
    "version": 3
   },
   "file_extension": ".py",
   "mimetype": "text/x-python",
   "name": "python",
   "nbconvert_exporter": "python",
   "pygments_lexer": "ipython3",
   "version": "3.7.5"
  }
 },
 "nbformat": 4,
 "nbformat_minor": 2
}
