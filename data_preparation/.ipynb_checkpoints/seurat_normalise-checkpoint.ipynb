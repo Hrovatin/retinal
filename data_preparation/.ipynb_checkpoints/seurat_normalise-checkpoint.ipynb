{
 "cells": [
  {
   "cell_type": "code",
   "execution_count": 22,
   "metadata": {},
   "outputs": [],
   "source": [
    "library(Seurat)\n",
    "library(rhdf5)\n",
    "library(Matrix)"
   ]
  },
  {
   "cell_type": "code",
   "execution_count": 2,
   "metadata": {},
   "outputs": [],
   "source": [
    "data_path='/home/khrovatin/retinal/data/human/'\n",
    "data_path_human='/share/LBI_share/public/retina/human\\ snRNAseq\\ data_10x_ChenLab_ZupanLab/humansn_10x_storage/'"
   ]
  },
  {
   "cell_type": "code",
   "execution_count": 25,
   "metadata": {},
   "outputs": [],
   "source": [
    "preprocess<-function(dir_path){\n",
    "    expression_matrix <- Read10X(data.dir = dir_path)\n",
    "    print(paste('Dimensions',dim(expression_matrix)))\n",
    "    col_counter<-colSums(expression_matrix)\n",
    "    keep_cells<-col_counter>500\n",
    "    expression_matrix=expression_matrix[,keep_cells]\n",
    "    print(paste('Dimensions after cell filtering',dim(expression_matrix)))\n",
    "    seurat.obj_h_norm = CreateSeuratObject(counts = expression_matrix)\n",
    "    seurat.obj_h_norm<-NormalizeData(seurat.obj_h_norm, normalization.method = \"LogNormalize\",\n",
    "                                     scale.factor = 1000000)\n",
    "    return(GetAssayData(object = seurat.obj_h_norm, slot = 'data'))\n",
    "}"
   ]
  },
  {
   "cell_type": "code",
   "execution_count": 4,
   "metadata": {},
   "outputs": [
    {
     "data": {
      "text/html": [
       "<ol class=list-inline>\n",
       "\t<li>'00012_NeuNM_filtered_feature_bc_matrix'</li>\n",
       "\t<li>'00012_NeuNT_filtered_feature_bc_matrix'</li>\n",
       "\t<li>'17D13_NeuNT_filtered_feature_bc_matrix'</li>\n",
       "\t<li>'19D013_fovea_filtered_feature_bc_matrix'</li>\n",
       "\t<li>'19D013_foveaR_filtered_feature_bc_matrix'</li>\n",
       "\t<li>'19D013_mac_filtered_feature_bc_matrix'</li>\n",
       "\t<li>'19D013_NeuNT_filtered_feature_bc_matrix'</li>\n",
       "\t<li>'19D014_fovea_filtered_feature_bc_matrix'</li>\n",
       "\t<li>'19D014_foveaR_filtered_feature_bc_matrix'</li>\n",
       "\t<li>'19D014_mac_filtered_feature_bc_matrix'</li>\n",
       "\t<li>'19D014_NeuNT_filtered_feature_bc_matrix'</li>\n",
       "\t<li>'19D015_fovea_filtered_feature_bc_matrix'</li>\n",
       "\t<li>'19D015_mac_filtered_feature_bc_matrix'</li>\n",
       "\t<li>'19D015_NeuNM_filtered_feature_bc_matrix'</li>\n",
       "\t<li>'19D015_NeuNT_filtered_feature_bc_matrix'</li>\n",
       "\t<li>'19D015_per_filtered_feature_bc_matrix'</li>\n",
       "\t<li>'19D016_mac_filtered_feature_bc_matrix'</li>\n",
       "</ol>\n"
      ],
      "text/latex": [
       "\\begin{enumerate*}\n",
       "\\item '00012\\_NeuNM\\_filtered\\_feature\\_bc\\_matrix'\n",
       "\\item '00012\\_NeuNT\\_filtered\\_feature\\_bc\\_matrix'\n",
       "\\item '17D13\\_NeuNT\\_filtered\\_feature\\_bc\\_matrix'\n",
       "\\item '19D013\\_fovea\\_filtered\\_feature\\_bc\\_matrix'\n",
       "\\item '19D013\\_foveaR\\_filtered\\_feature\\_bc\\_matrix'\n",
       "\\item '19D013\\_mac\\_filtered\\_feature\\_bc\\_matrix'\n",
       "\\item '19D013\\_NeuNT\\_filtered\\_feature\\_bc\\_matrix'\n",
       "\\item '19D014\\_fovea\\_filtered\\_feature\\_bc\\_matrix'\n",
       "\\item '19D014\\_foveaR\\_filtered\\_feature\\_bc\\_matrix'\n",
       "\\item '19D014\\_mac\\_filtered\\_feature\\_bc\\_matrix'\n",
       "\\item '19D014\\_NeuNT\\_filtered\\_feature\\_bc\\_matrix'\n",
       "\\item '19D015\\_fovea\\_filtered\\_feature\\_bc\\_matrix'\n",
       "\\item '19D015\\_mac\\_filtered\\_feature\\_bc\\_matrix'\n",
       "\\item '19D015\\_NeuNM\\_filtered\\_feature\\_bc\\_matrix'\n",
       "\\item '19D015\\_NeuNT\\_filtered\\_feature\\_bc\\_matrix'\n",
       "\\item '19D015\\_per\\_filtered\\_feature\\_bc\\_matrix'\n",
       "\\item '19D016\\_mac\\_filtered\\_feature\\_bc\\_matrix'\n",
       "\\end{enumerate*}\n"
      ],
      "text/markdown": [
       "1. '00012_NeuNM_filtered_feature_bc_matrix'\n",
       "2. '00012_NeuNT_filtered_feature_bc_matrix'\n",
       "3. '17D13_NeuNT_filtered_feature_bc_matrix'\n",
       "4. '19D013_fovea_filtered_feature_bc_matrix'\n",
       "5. '19D013_foveaR_filtered_feature_bc_matrix'\n",
       "6. '19D013_mac_filtered_feature_bc_matrix'\n",
       "7. '19D013_NeuNT_filtered_feature_bc_matrix'\n",
       "8. '19D014_fovea_filtered_feature_bc_matrix'\n",
       "9. '19D014_foveaR_filtered_feature_bc_matrix'\n",
       "10. '19D014_mac_filtered_feature_bc_matrix'\n",
       "11. '19D014_NeuNT_filtered_feature_bc_matrix'\n",
       "12. '19D015_fovea_filtered_feature_bc_matrix'\n",
       "13. '19D015_mac_filtered_feature_bc_matrix'\n",
       "14. '19D015_NeuNM_filtered_feature_bc_matrix'\n",
       "15. '19D015_NeuNT_filtered_feature_bc_matrix'\n",
       "16. '19D015_per_filtered_feature_bc_matrix'\n",
       "17. '19D016_mac_filtered_feature_bc_matrix'\n",
       "\n",
       "\n"
      ],
      "text/plain": [
       " [1] \"00012_NeuNM_filtered_feature_bc_matrix\"  \n",
       " [2] \"00012_NeuNT_filtered_feature_bc_matrix\"  \n",
       " [3] \"17D13_NeuNT_filtered_feature_bc_matrix\"  \n",
       " [4] \"19D013_fovea_filtered_feature_bc_matrix\" \n",
       " [5] \"19D013_foveaR_filtered_feature_bc_matrix\"\n",
       " [6] \"19D013_mac_filtered_feature_bc_matrix\"   \n",
       " [7] \"19D013_NeuNT_filtered_feature_bc_matrix\" \n",
       " [8] \"19D014_fovea_filtered_feature_bc_matrix\" \n",
       " [9] \"19D014_foveaR_filtered_feature_bc_matrix\"\n",
       "[10] \"19D014_mac_filtered_feature_bc_matrix\"   \n",
       "[11] \"19D014_NeuNT_filtered_feature_bc_matrix\" \n",
       "[12] \"19D015_fovea_filtered_feature_bc_matrix\" \n",
       "[13] \"19D015_mac_filtered_feature_bc_matrix\"   \n",
       "[14] \"19D015_NeuNM_filtered_feature_bc_matrix\" \n",
       "[15] \"19D015_NeuNT_filtered_feature_bc_matrix\" \n",
       "[16] \"19D015_per_filtered_feature_bc_matrix\"   \n",
       "[17] \"19D016_mac_filtered_feature_bc_matrix\"   "
      ]
     },
     "metadata": {},
     "output_type": "display_data"
    }
   ],
   "source": [
    "list.files(path = data_path_human, pattern = '*matrix')"
   ]
  },
  {
   "cell_type": "code",
   "execution_count": 7,
   "metadata": {},
   "outputs": [],
   "source": [
    "file_normalised=paste(data_path,'normalised_human.h5',sep='')"
   ]
  },
  {
   "cell_type": "code",
   "execution_count": 26,
   "metadata": {},
   "outputs": [
    {
     "data": {
      "text/html": [
       "TRUE"
      ],
      "text/latex": [
       "TRUE"
      ],
      "text/markdown": [
       "TRUE"
      ],
      "text/plain": [
       "[1] TRUE"
      ]
     },
     "metadata": {},
     "output_type": "display_data"
    }
   ],
   "source": [
    "h5createFile(file_normalised)"
   ]
  },
  {
   "cell_type": "code",
   "execution_count": 27,
   "metadata": {
    "scrolled": true
   },
   "outputs": [
    {
     "name": "stdout",
     "output_type": "stream",
     "text": [
      "[1] \"00012_NeuNM_filtered_feature_bc_matrix\"\n",
      "[1] \"/share/LBI_share/public/retina/human snRNAseq data_10x_ChenLab_ZupanLab/humansn_10x_storage/00012_NeuNM_filtered_feature_bc_matrix\"\n",
      "[1] \"Dimensions 32738\" \"Dimensions 11245\"\n",
      "[1] \"Dimensions after cell filtering 32738\"\n",
      "[2] \"Dimensions after cell filtering 11245\"\n"
     ]
    },
    {
     "name": "stderr",
     "output_type": "stream",
     "text": [
      "Warning message:\n",
      "“Feature names cannot have underscores ('_'), replacing with dashes ('-')”\n"
     ]
    },
    {
     "ename": "ERROR",
     "evalue": "Error in h5write(as.matrix(normalised_h), file_norm, paste(name, \"/matrix\", : object 'file_norm' not found\n",
     "output_type": "error",
     "traceback": [
      "Error in h5write(as.matrix(normalised_h), file_norm, paste(name, \"/matrix\", : object 'file_norm' not found\nTraceback:\n",
      "1. h5write(as.matrix(normalised_h), file_norm, paste(name, \"/matrix\", \n .     sep = \"\"))",
      "2. h5write.default(as.matrix(normalised_h), file_norm, paste(name, \n .     \"/matrix\", sep = \"\"))",
      "3. h5checktypeOrOpenLoc(file, createnewfile = createnewfile, native = native)"
     ]
    }
   ],
   "source": [
    "for (name in list.files(path = data_path_human, pattern = '*matrix')){\n",
    "    print(name)\n",
    "    h5createGroup(file_normalised,name)\n",
    "    print(paste(data_path_human,name,sep=''))\n",
    "    normalised_h <- preprocess(paste(data_path_human,name,sep=''))\n",
    "    h5write(as.matrix(normalised_h), file_normalised,paste(name,\"/matrix\",sep=''))\n",
    "    h5write(colnames(normalised_h), file_normalised,paste(name,\"/colnames\",sep=''))\n",
    "    h5write(rownames(normalised_h), file_normalised,paste(name,\"/rownames\",sep=''))\n",
    "}"
   ]
  },
  {
   "cell_type": "code",
   "execution_count": null,
   "metadata": {},
   "outputs": [],
   "source": []
  }
 ],
 "metadata": {
  "kernelspec": {
   "display_name": "R",
   "language": "R",
   "name": "ir"
  },
  "language_info": {
   "codemirror_mode": "r",
   "file_extension": ".r",
   "mimetype": "text/x-r-source",
   "name": "R",
   "pygments_lexer": "r",
   "version": "3.6.1"
  }
 },
 "nbformat": 4,
 "nbformat_minor": 2
}
