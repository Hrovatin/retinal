{
 "cells": [
  {
   "cell_type": "code",
   "execution_count": 1,
   "metadata": {},
   "outputs": [],
   "source": [
    "library(Seurat)\n",
    "library(rhdf5)\n",
    "library(Matrix)"
   ]
  },
  {
   "cell_type": "code",
   "execution_count": 2,
   "metadata": {},
   "outputs": [],
   "source": [
    "data_path='/home/khrovatin/retinal/data/human/'\n",
    "data_path_human='/share/LBI_share/public/retina/human\\ snRNAseq\\ data_10x_ChenLab_ZupanLab/humansn_10x_storage/'"
   ]
  },
  {
   "cell_type": "code",
   "execution_count": 25,
   "metadata": {},
   "outputs": [],
   "source": [
    "preprocess<-function(dir_path){\n",
    "    expression_matrix <- Read10X(data.dir = dir_path)\n",
    "    print(paste('Dimensions',dim(expression_matrix)))\n",
    "    col_counter<-colSums(expression_matrix!=0)\n",
    "    keep_cells<-col_counter>500\n",
    "    expression_matrix=expression_matrix[,keep_cells]\n",
    "    print(paste('Dimensions after cell filtering',dim(expression_matrix)))\n",
    "    seurat.obj_h_norm = CreateSeuratObject(counts = expression_matrix)\n",
    "    seurat.obj_h_norm<-NormalizeData(seurat.obj_h_norm, normalization.method = \"LogNormalize\",\n",
    "                                     scale.factor = 1000000)\n",
    "    return(GetAssayData(object = seurat.obj_h_norm, slot = 'data'))\n",
    "}"
   ]
  },
  {
   "cell_type": "code",
   "execution_count": 26,
   "metadata": {},
   "outputs": [
    {
     "data": {
      "text/html": [
       "<ol class=list-inline>\n",
       "\t<li>'00012_NeuNM_filtered_feature_bc_matrix'</li>\n",
       "\t<li>'00012_NeuNT_filtered_feature_bc_matrix'</li>\n",
       "\t<li>'17D13_NeuNT_filtered_feature_bc_matrix'</li>\n",
       "\t<li>'19D013_fovea_filtered_feature_bc_matrix'</li>\n",
       "\t<li>'19D013_foveaR_filtered_feature_bc_matrix'</li>\n",
       "\t<li>'19D013_mac_filtered_feature_bc_matrix'</li>\n",
       "\t<li>'19D013_NeuNT_filtered_feature_bc_matrix'</li>\n",
       "\t<li>'19D014_fovea_filtered_feature_bc_matrix'</li>\n",
       "\t<li>'19D014_foveaR_filtered_feature_bc_matrix'</li>\n",
       "\t<li>'19D014_mac_filtered_feature_bc_matrix'</li>\n",
       "\t<li>'19D014_NeuNT_filtered_feature_bc_matrix'</li>\n",
       "\t<li>'19D015_fovea_filtered_feature_bc_matrix'</li>\n",
       "\t<li>'19D015_mac_filtered_feature_bc_matrix'</li>\n",
       "\t<li>'19D015_NeuNM_filtered_feature_bc_matrix'</li>\n",
       "\t<li>'19D015_NeuNT_filtered_feature_bc_matrix'</li>\n",
       "\t<li>'19D015_per_filtered_feature_bc_matrix'</li>\n",
       "\t<li>'19D016_mac_filtered_feature_bc_matrix'</li>\n",
       "</ol>\n"
      ],
      "text/latex": [
       "\\begin{enumerate*}\n",
       "\\item '00012\\_NeuNM\\_filtered\\_feature\\_bc\\_matrix'\n",
       "\\item '00012\\_NeuNT\\_filtered\\_feature\\_bc\\_matrix'\n",
       "\\item '17D13\\_NeuNT\\_filtered\\_feature\\_bc\\_matrix'\n",
       "\\item '19D013\\_fovea\\_filtered\\_feature\\_bc\\_matrix'\n",
       "\\item '19D013\\_foveaR\\_filtered\\_feature\\_bc\\_matrix'\n",
       "\\item '19D013\\_mac\\_filtered\\_feature\\_bc\\_matrix'\n",
       "\\item '19D013\\_NeuNT\\_filtered\\_feature\\_bc\\_matrix'\n",
       "\\item '19D014\\_fovea\\_filtered\\_feature\\_bc\\_matrix'\n",
       "\\item '19D014\\_foveaR\\_filtered\\_feature\\_bc\\_matrix'\n",
       "\\item '19D014\\_mac\\_filtered\\_feature\\_bc\\_matrix'\n",
       "\\item '19D014\\_NeuNT\\_filtered\\_feature\\_bc\\_matrix'\n",
       "\\item '19D015\\_fovea\\_filtered\\_feature\\_bc\\_matrix'\n",
       "\\item '19D015\\_mac\\_filtered\\_feature\\_bc\\_matrix'\n",
       "\\item '19D015\\_NeuNM\\_filtered\\_feature\\_bc\\_matrix'\n",
       "\\item '19D015\\_NeuNT\\_filtered\\_feature\\_bc\\_matrix'\n",
       "\\item '19D015\\_per\\_filtered\\_feature\\_bc\\_matrix'\n",
       "\\item '19D016\\_mac\\_filtered\\_feature\\_bc\\_matrix'\n",
       "\\end{enumerate*}\n"
      ],
      "text/markdown": [
       "1. '00012_NeuNM_filtered_feature_bc_matrix'\n",
       "2. '00012_NeuNT_filtered_feature_bc_matrix'\n",
       "3. '17D13_NeuNT_filtered_feature_bc_matrix'\n",
       "4. '19D013_fovea_filtered_feature_bc_matrix'\n",
       "5. '19D013_foveaR_filtered_feature_bc_matrix'\n",
       "6. '19D013_mac_filtered_feature_bc_matrix'\n",
       "7. '19D013_NeuNT_filtered_feature_bc_matrix'\n",
       "8. '19D014_fovea_filtered_feature_bc_matrix'\n",
       "9. '19D014_foveaR_filtered_feature_bc_matrix'\n",
       "10. '19D014_mac_filtered_feature_bc_matrix'\n",
       "11. '19D014_NeuNT_filtered_feature_bc_matrix'\n",
       "12. '19D015_fovea_filtered_feature_bc_matrix'\n",
       "13. '19D015_mac_filtered_feature_bc_matrix'\n",
       "14. '19D015_NeuNM_filtered_feature_bc_matrix'\n",
       "15. '19D015_NeuNT_filtered_feature_bc_matrix'\n",
       "16. '19D015_per_filtered_feature_bc_matrix'\n",
       "17. '19D016_mac_filtered_feature_bc_matrix'\n",
       "\n",
       "\n"
      ],
      "text/plain": [
       " [1] \"00012_NeuNM_filtered_feature_bc_matrix\"  \n",
       " [2] \"00012_NeuNT_filtered_feature_bc_matrix\"  \n",
       " [3] \"17D13_NeuNT_filtered_feature_bc_matrix\"  \n",
       " [4] \"19D013_fovea_filtered_feature_bc_matrix\" \n",
       " [5] \"19D013_foveaR_filtered_feature_bc_matrix\"\n",
       " [6] \"19D013_mac_filtered_feature_bc_matrix\"   \n",
       " [7] \"19D013_NeuNT_filtered_feature_bc_matrix\" \n",
       " [8] \"19D014_fovea_filtered_feature_bc_matrix\" \n",
       " [9] \"19D014_foveaR_filtered_feature_bc_matrix\"\n",
       "[10] \"19D014_mac_filtered_feature_bc_matrix\"   \n",
       "[11] \"19D014_NeuNT_filtered_feature_bc_matrix\" \n",
       "[12] \"19D015_fovea_filtered_feature_bc_matrix\" \n",
       "[13] \"19D015_mac_filtered_feature_bc_matrix\"   \n",
       "[14] \"19D015_NeuNM_filtered_feature_bc_matrix\" \n",
       "[15] \"19D015_NeuNT_filtered_feature_bc_matrix\" \n",
       "[16] \"19D015_per_filtered_feature_bc_matrix\"   \n",
       "[17] \"19D016_mac_filtered_feature_bc_matrix\"   "
      ]
     },
     "metadata": {},
     "output_type": "display_data"
    }
   ],
   "source": [
    "list.files(path = data_path_human, pattern = '*matrix')"
   ]
  },
  {
   "cell_type": "code",
   "execution_count": 27,
   "metadata": {},
   "outputs": [],
   "source": [
    "file_normalised=paste(data_path,'normalised_human.h5',sep='')"
   ]
  },
  {
   "cell_type": "code",
   "execution_count": 28,
   "metadata": {},
   "outputs": [
    {
     "data": {
      "text/html": [
       "TRUE"
      ],
      "text/latex": [
       "TRUE"
      ],
      "text/markdown": [
       "TRUE"
      ],
      "text/plain": [
       "[1] TRUE"
      ]
     },
     "metadata": {},
     "output_type": "display_data"
    }
   ],
   "source": [
    "h5createFile(file_normalised)"
   ]
  },
  {
   "cell_type": "code",
   "execution_count": 29,
   "metadata": {
    "scrolled": true
   },
   "outputs": [
    {
     "name": "stdout",
     "output_type": "stream",
     "text": [
      "[1] \"00012_NeuNM_filtered_feature_bc_matrix\"\n",
      "[1] \"/share/LBI_share/public/retina/human snRNAseq data_10x_ChenLab_ZupanLab/humansn_10x_storage/00012_NeuNM_filtered_feature_bc_matrix\"\n",
      "[1] \"Dimensions 32738\" \"Dimensions 11245\"\n",
      "[1] \"Dimensions after cell filtering 32738\"\n",
      "[2] \"Dimensions after cell filtering 11194\"\n"
     ]
    },
    {
     "name": "stderr",
     "output_type": "stream",
     "text": [
      "Warning message:\n",
      "“Feature names cannot have underscores ('_'), replacing with dashes ('-')”\n",
      "You created a large dataset with compression and chunking.\n",
      "The chunk size is equal to the dataset dimensions.\n",
      "If you want to read subsets of the dataset, you should testsmaller chunk sizes to improve read times.\n",
      "\n"
     ]
    },
    {
     "name": "stdout",
     "output_type": "stream",
     "text": [
      "[1] \"00012_NeuNT_filtered_feature_bc_matrix\"\n",
      "[1] \"/share/LBI_share/public/retina/human snRNAseq data_10x_ChenLab_ZupanLab/humansn_10x_storage/00012_NeuNT_filtered_feature_bc_matrix\"\n",
      "[1] \"Dimensions 32738\" \"Dimensions 13733\"\n",
      "[1] \"Dimensions after cell filtering 32738\"\n",
      "[2] \"Dimensions after cell filtering 13612\"\n"
     ]
    },
    {
     "name": "stderr",
     "output_type": "stream",
     "text": [
      "Warning message:\n",
      "“Feature names cannot have underscores ('_'), replacing with dashes ('-')”\n",
      "You created a large dataset with compression and chunking.\n",
      "The chunk size is equal to the dataset dimensions.\n",
      "If you want to read subsets of the dataset, you should testsmaller chunk sizes to improve read times.\n",
      "\n"
     ]
    },
    {
     "name": "stdout",
     "output_type": "stream",
     "text": [
      "[1] \"17D13_NeuNT_filtered_feature_bc_matrix\"\n",
      "[1] \"/share/LBI_share/public/retina/human snRNAseq data_10x_ChenLab_ZupanLab/humansn_10x_storage/17D13_NeuNT_filtered_feature_bc_matrix\"\n",
      "[1] \"Dimensions 32738\" \"Dimensions 8317\" \n",
      "[1] \"Dimensions after cell filtering 32738\"\n",
      "[2] \"Dimensions after cell filtering 8276\" \n"
     ]
    },
    {
     "name": "stderr",
     "output_type": "stream",
     "text": [
      "Warning message:\n",
      "“Feature names cannot have underscores ('_'), replacing with dashes ('-')”\n",
      "You created a large dataset with compression and chunking.\n",
      "The chunk size is equal to the dataset dimensions.\n",
      "If you want to read subsets of the dataset, you should testsmaller chunk sizes to improve read times.\n",
      "\n"
     ]
    },
    {
     "name": "stdout",
     "output_type": "stream",
     "text": [
      "[1] \"19D013_fovea_filtered_feature_bc_matrix\"\n",
      "[1] \"/share/LBI_share/public/retina/human snRNAseq data_10x_ChenLab_ZupanLab/humansn_10x_storage/19D013_fovea_filtered_feature_bc_matrix\"\n",
      "[1] \"Dimensions 32738\" \"Dimensions 22003\"\n",
      "[1] \"Dimensions after cell filtering 32738\"\n",
      "[2] \"Dimensions after cell filtering 21955\"\n"
     ]
    },
    {
     "name": "stderr",
     "output_type": "stream",
     "text": [
      "Warning message:\n",
      "“Feature names cannot have underscores ('_'), replacing with dashes ('-')”\n",
      "Current chunk settings will exceed HDF5's 4GB limit.\n",
      "Automatically adjusting them to: 23170 x 21955\n",
      "You may wish to set these to more appropriate values using the 'chunk' argument.\n",
      "\n"
     ]
    },
    {
     "name": "stdout",
     "output_type": "stream",
     "text": [
      "[1] \"19D013_foveaR_filtered_feature_bc_matrix\"\n",
      "[1] \"/share/LBI_share/public/retina/human snRNAseq data_10x_ChenLab_ZupanLab/humansn_10x_storage/19D013_foveaR_filtered_feature_bc_matrix\"\n",
      "[1] \"Dimensions 32738\" \"Dimensions 14853\"\n",
      "[1] \"Dimensions after cell filtering 32738\"\n",
      "[2] \"Dimensions after cell filtering 14780\"\n"
     ]
    },
    {
     "name": "stderr",
     "output_type": "stream",
     "text": [
      "Warning message:\n",
      "“Feature names cannot have underscores ('_'), replacing with dashes ('-')”\n",
      "You created a large dataset with compression and chunking.\n",
      "The chunk size is equal to the dataset dimensions.\n",
      "If you want to read subsets of the dataset, you should testsmaller chunk sizes to improve read times.\n",
      "\n"
     ]
    },
    {
     "name": "stdout",
     "output_type": "stream",
     "text": [
      "[1] \"19D013_mac_filtered_feature_bc_matrix\"\n",
      "[1] \"/share/LBI_share/public/retina/human snRNAseq data_10x_ChenLab_ZupanLab/humansn_10x_storage/19D013_mac_filtered_feature_bc_matrix\"\n",
      "[1] \"Dimensions 32738\" \"Dimensions 20292\"\n",
      "[1] \"Dimensions after cell filtering 32738\"\n",
      "[2] \"Dimensions after cell filtering 20228\"\n"
     ]
    },
    {
     "name": "stderr",
     "output_type": "stream",
     "text": [
      "Warning message:\n",
      "“Feature names cannot have underscores ('_'), replacing with dashes ('-')”\n",
      "Current chunk settings will exceed HDF5's 4GB limit.\n",
      "Automatically adjusting them to: 23170 x 20228\n",
      "You may wish to set these to more appropriate values using the 'chunk' argument.\n",
      "\n"
     ]
    },
    {
     "name": "stdout",
     "output_type": "stream",
     "text": [
      "[1] \"19D013_NeuNT_filtered_feature_bc_matrix\"\n",
      "[1] \"/share/LBI_share/public/retina/human snRNAseq data_10x_ChenLab_ZupanLab/humansn_10x_storage/19D013_NeuNT_filtered_feature_bc_matrix\"\n",
      "[1] \"Dimensions 32738\" \"Dimensions 12213\"\n",
      "[1] \"Dimensions after cell filtering 32738\"\n",
      "[2] \"Dimensions after cell filtering 12139\"\n"
     ]
    },
    {
     "name": "stderr",
     "output_type": "stream",
     "text": [
      "Warning message:\n",
      "“Feature names cannot have underscores ('_'), replacing with dashes ('-')”\n",
      "You created a large dataset with compression and chunking.\n",
      "The chunk size is equal to the dataset dimensions.\n",
      "If you want to read subsets of the dataset, you should testsmaller chunk sizes to improve read times.\n",
      "\n"
     ]
    },
    {
     "name": "stdout",
     "output_type": "stream",
     "text": [
      "[1] \"19D014_fovea_filtered_feature_bc_matrix\"\n",
      "[1] \"/share/LBI_share/public/retina/human snRNAseq data_10x_ChenLab_ZupanLab/humansn_10x_storage/19D014_fovea_filtered_feature_bc_matrix\"\n",
      "[1] \"Dimensions 32738\" \"Dimensions 20550\"\n",
      "[1] \"Dimensions after cell filtering 32738\"\n",
      "[2] \"Dimensions after cell filtering 20484\"\n"
     ]
    },
    {
     "name": "stderr",
     "output_type": "stream",
     "text": [
      "Warning message:\n",
      "“Feature names cannot have underscores ('_'), replacing with dashes ('-')”\n",
      "Current chunk settings will exceed HDF5's 4GB limit.\n",
      "Automatically adjusting them to: 23170 x 20484\n",
      "You may wish to set these to more appropriate values using the 'chunk' argument.\n",
      "\n"
     ]
    },
    {
     "name": "stdout",
     "output_type": "stream",
     "text": [
      "[1] \"19D014_foveaR_filtered_feature_bc_matrix\"\n",
      "[1] \"/share/LBI_share/public/retina/human snRNAseq data_10x_ChenLab_ZupanLab/humansn_10x_storage/19D014_foveaR_filtered_feature_bc_matrix\"\n",
      "[1] \"Dimensions 32738\" \"Dimensions 11309\"\n",
      "[1] \"Dimensions after cell filtering 32738\"\n",
      "[2] \"Dimensions after cell filtering 11213\"\n"
     ]
    },
    {
     "name": "stderr",
     "output_type": "stream",
     "text": [
      "Warning message:\n",
      "“Feature names cannot have underscores ('_'), replacing with dashes ('-')”\n",
      "You created a large dataset with compression and chunking.\n",
      "The chunk size is equal to the dataset dimensions.\n",
      "If you want to read subsets of the dataset, you should testsmaller chunk sizes to improve read times.\n",
      "\n"
     ]
    },
    {
     "name": "stdout",
     "output_type": "stream",
     "text": [
      "[1] \"19D014_mac_filtered_feature_bc_matrix\"\n",
      "[1] \"/share/LBI_share/public/retina/human snRNAseq data_10x_ChenLab_ZupanLab/humansn_10x_storage/19D014_mac_filtered_feature_bc_matrix\"\n",
      "[1] \"Dimensions 32738\" \"Dimensions 20416\"\n",
      "[1] \"Dimensions after cell filtering 32738\"\n",
      "[2] \"Dimensions after cell filtering 20241\"\n"
     ]
    },
    {
     "name": "stderr",
     "output_type": "stream",
     "text": [
      "Warning message:\n",
      "“Feature names cannot have underscores ('_'), replacing with dashes ('-')”\n",
      "Current chunk settings will exceed HDF5's 4GB limit.\n",
      "Automatically adjusting them to: 23170 x 20241\n",
      "You may wish to set these to more appropriate values using the 'chunk' argument.\n",
      "\n"
     ]
    },
    {
     "name": "stdout",
     "output_type": "stream",
     "text": [
      "[1] \"19D014_NeuNT_filtered_feature_bc_matrix\"\n",
      "[1] \"/share/LBI_share/public/retina/human snRNAseq data_10x_ChenLab_ZupanLab/humansn_10x_storage/19D014_NeuNT_filtered_feature_bc_matrix\"\n",
      "[1] \"Dimensions 32738\" \"Dimensions 8518\" \n",
      "[1] \"Dimensions after cell filtering 32738\"\n",
      "[2] \"Dimensions after cell filtering 8511\" \n"
     ]
    },
    {
     "name": "stderr",
     "output_type": "stream",
     "text": [
      "Warning message:\n",
      "“Feature names cannot have underscores ('_'), replacing with dashes ('-')”\n",
      "You created a large dataset with compression and chunking.\n",
      "The chunk size is equal to the dataset dimensions.\n",
      "If you want to read subsets of the dataset, you should testsmaller chunk sizes to improve read times.\n",
      "\n"
     ]
    },
    {
     "name": "stdout",
     "output_type": "stream",
     "text": [
      "[1] \"19D015_fovea_filtered_feature_bc_matrix\"\n",
      "[1] \"/share/LBI_share/public/retina/human snRNAseq data_10x_ChenLab_ZupanLab/humansn_10x_storage/19D015_fovea_filtered_feature_bc_matrix\"\n",
      "[1] \"Dimensions 32738\" \"Dimensions 49267\"\n",
      "[1] \"Dimensions after cell filtering 32738\"\n",
      "[2] \"Dimensions after cell filtering 49153\"\n"
     ]
    },
    {
     "name": "stderr",
     "output_type": "stream",
     "text": [
      "Warning message:\n",
      "“Feature names cannot have underscores ('_'), replacing with dashes ('-')”\n",
      "Current chunk settings will exceed HDF5's 4GB limit.\n",
      "Automatically adjusting them to: 23170 x 23170\n",
      "You may wish to set these to more appropriate values using the 'chunk' argument.\n",
      "\n"
     ]
    },
    {
     "name": "stdout",
     "output_type": "stream",
     "text": [
      "[1] \"19D015_mac_filtered_feature_bc_matrix\"\n",
      "[1] \"/share/LBI_share/public/retina/human snRNAseq data_10x_ChenLab_ZupanLab/humansn_10x_storage/19D015_mac_filtered_feature_bc_matrix\"\n",
      "[1] \"Dimensions 32738\" \"Dimensions 26108\"\n",
      "[1] \"Dimensions after cell filtering 32738\"\n",
      "[2] \"Dimensions after cell filtering 25774\"\n"
     ]
    },
    {
     "name": "stderr",
     "output_type": "stream",
     "text": [
      "Warning message:\n",
      "“Feature names cannot have underscores ('_'), replacing with dashes ('-')”\n",
      "Current chunk settings will exceed HDF5's 4GB limit.\n",
      "Automatically adjusting them to: 23170 x 23170\n",
      "You may wish to set these to more appropriate values using the 'chunk' argument.\n",
      "\n"
     ]
    },
    {
     "name": "stdout",
     "output_type": "stream",
     "text": [
      "[1] \"19D015_NeuNM_filtered_feature_bc_matrix\"\n",
      "[1] \"/share/LBI_share/public/retina/human snRNAseq data_10x_ChenLab_ZupanLab/humansn_10x_storage/19D015_NeuNM_filtered_feature_bc_matrix\"\n",
      "[1] \"Dimensions 32738\" \"Dimensions 27097\"\n",
      "[1] \"Dimensions after cell filtering 32738\"\n",
      "[2] \"Dimensions after cell filtering 26937\"\n"
     ]
    },
    {
     "name": "stderr",
     "output_type": "stream",
     "text": [
      "Warning message:\n",
      "“Feature names cannot have underscores ('_'), replacing with dashes ('-')”\n",
      "Current chunk settings will exceed HDF5's 4GB limit.\n",
      "Automatically adjusting them to: 23170 x 23170\n",
      "You may wish to set these to more appropriate values using the 'chunk' argument.\n",
      "\n"
     ]
    },
    {
     "name": "stdout",
     "output_type": "stream",
     "text": [
      "[1] \"19D015_NeuNT_filtered_feature_bc_matrix\"\n",
      "[1] \"/share/LBI_share/public/retina/human snRNAseq data_10x_ChenLab_ZupanLab/humansn_10x_storage/19D015_NeuNT_filtered_feature_bc_matrix\"\n",
      "[1] \"Dimensions 32738\" \"Dimensions 24633\"\n",
      "[1] \"Dimensions after cell filtering 32738\"\n",
      "[2] \"Dimensions after cell filtering 24427\"\n"
     ]
    },
    {
     "name": "stderr",
     "output_type": "stream",
     "text": [
      "Warning message:\n",
      "“Feature names cannot have underscores ('_'), replacing with dashes ('-')”\n",
      "Current chunk settings will exceed HDF5's 4GB limit.\n",
      "Automatically adjusting them to: 23170 x 23170\n",
      "You may wish to set these to more appropriate values using the 'chunk' argument.\n",
      "\n"
     ]
    },
    {
     "name": "stdout",
     "output_type": "stream",
     "text": [
      "[1] \"19D015_per_filtered_feature_bc_matrix\"\n",
      "[1] \"/share/LBI_share/public/retina/human snRNAseq data_10x_ChenLab_ZupanLab/humansn_10x_storage/19D015_per_filtered_feature_bc_matrix\"\n",
      "[1] \"Dimensions 32738\" \"Dimensions 11523\"\n",
      "[1] \"Dimensions after cell filtering 32738\"\n",
      "[2] \"Dimensions after cell filtering 11406\"\n"
     ]
    },
    {
     "name": "stderr",
     "output_type": "stream",
     "text": [
      "Warning message:\n",
      "“Feature names cannot have underscores ('_'), replacing with dashes ('-')”\n",
      "You created a large dataset with compression and chunking.\n",
      "The chunk size is equal to the dataset dimensions.\n",
      "If you want to read subsets of the dataset, you should testsmaller chunk sizes to improve read times.\n",
      "\n"
     ]
    },
    {
     "name": "stdout",
     "output_type": "stream",
     "text": [
      "[1] \"19D016_mac_filtered_feature_bc_matrix\"\n",
      "[1] \"/share/LBI_share/public/retina/human snRNAseq data_10x_ChenLab_ZupanLab/humansn_10x_storage/19D016_mac_filtered_feature_bc_matrix\"\n",
      "[1] \"Dimensions 32738\" \"Dimensions 25244\"\n",
      "[1] \"Dimensions after cell filtering 32738\"\n",
      "[2] \"Dimensions after cell filtering 25134\"\n"
     ]
    },
    {
     "name": "stderr",
     "output_type": "stream",
     "text": [
      "Warning message:\n",
      "“Feature names cannot have underscores ('_'), replacing with dashes ('-')”\n",
      "Current chunk settings will exceed HDF5's 4GB limit.\n",
      "Automatically adjusting them to: 23170 x 23170\n",
      "You may wish to set these to more appropriate values using the 'chunk' argument.\n",
      "\n"
     ]
    }
   ],
   "source": [
    "for (name in list.files(path = data_path_human, pattern = '*matrix')){\n",
    "    print(name)\n",
    "    h5createGroup(file_normalised,name)\n",
    "    print(paste(data_path_human,name,sep=''))\n",
    "    normalised_h <- preprocess(paste(data_path_human,name,sep=''))\n",
    "    h5write(as.matrix(normalised_h), file_normalised,paste(name,\"/matrix\",sep=''))\n",
    "    h5write(colnames(normalised_h), file_normalised,paste(name,\"/colnames\",sep=''))\n",
    "    h5write(rownames(normalised_h), file_normalised,paste(name,\"/rownames\",sep=''))\n",
    "}"
   ]
  },
  {
   "cell_type": "code",
   "execution_count": null,
   "metadata": {},
   "outputs": [],
   "source": []
  }
 ],
 "metadata": {
  "kernelspec": {
   "display_name": "R",
   "language": "R",
   "name": "ir"
  },
  "language_info": {
   "codemirror_mode": "r",
   "file_extension": ".r",
   "mimetype": "text/x-r-source",
   "name": "R",
   "pygments_lexer": "r",
   "version": "3.6.2"
  }
 },
 "nbformat": 4,
 "nbformat_minor": 2
}
