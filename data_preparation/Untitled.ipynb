{
 "cells": [
  {
   "cell_type": "code",
   "execution_count": 1,
   "metadata": {},
   "outputs": [],
   "source": [
    "library(Seurat)\n",
    "library(Matrix)"
   ]
  },
  {
   "cell_type": "code",
   "execution_count": 2,
   "metadata": {},
   "outputs": [],
   "source": [
    "data_path_ref='/home/khrovatin/retinal/data/counts/'\n",
    "data_path='/home/khrovatin/retinal/data/human/'\n",
    "data_path_shared='/share/LBI_share/public/retina/human\\ snRNAseq\\ data_10x_ChenLab_ZupanLab/humansn_10x_storage/00012_NeuNM_filtered_feature_bc_matrix'"
   ]
  },
  {
   "cell_type": "code",
   "execution_count": 3,
   "metadata": {},
   "outputs": [
    {
     "ename": "ERROR",
     "evalue": "Error: cannot allocate vector of size 1.5 Gb\n",
     "output_type": "error",
     "traceback": [
      "Error: cannot allocate vector of size 1.5 Gb\nTraceback:\n",
      "1. readRDS(paste(data_path_ref, \"scaled_integrated.rds\", sep = \"\"))"
     ]
    }
   ],
   "source": [
    "seurat.obj_int<-readRDS(paste(data_path_ref,'scaled_integrated.rds',sep=''))"
   ]
  },
  {
   "cell_type": "code",
   "execution_count": null,
   "metadata": {},
   "outputs": [],
   "source": [
    "GetAssayData(object = seurat.obj_nb, slot = \"scale.data\")"
   ]
  },
  {
   "cell_type": "code",
   "execution_count": null,
   "metadata": {},
   "outputs": [],
   "source": []
  },
  {
   "cell_type": "code",
   "execution_count": null,
   "metadata": {},
   "outputs": [],
   "source": []
  },
  {
   "cell_type": "code",
   "execution_count": 6,
   "metadata": {},
   "outputs": [
    {
     "name": "stderr",
     "output_type": "stream",
     "text": [
      "Warning message:\n",
      "“Feature names cannot have underscores ('_'), replacing with dashes ('-')”\n"
     ]
    }
   ],
   "source": [
    "expression_matrix <- Read10X(data.dir = data_path_shared)\n",
    "seurat.obj_h = CreateSeuratObject(counts = expression_matrix)"
   ]
  },
  {
   "cell_type": "code",
   "execution_count": 7,
   "metadata": {},
   "outputs": [],
   "source": [
    "seurat_both=list()\n",
    "seurat_both[['ref']]<-seurat.obj_int\n",
    "seurat_both[['sample']]<-seurat.obj_h"
   ]
  },
  {
   "cell_type": "code",
   "execution_count": 8,
   "metadata": {},
   "outputs": [],
   "source": [
    "genes_ref_var=rownames(GetAssayData(object = seurat_both[['ref']], slot = \"scale.data\"))"
   ]
  },
  {
   "cell_type": "code",
   "execution_count": 9,
   "metadata": {},
   "outputs": [
    {
     "data": {
      "text/html": [
       "<ol class=list-inline>\n",
       "\t<li>'NID1'</li>\n",
       "\t<li>'GNG4'</li>\n",
       "\t<li>'IRF2BP2'</li>\n",
       "\t<li>'MSTRG.100'</li>\n",
       "\t<li>'MSTRG.103'</li>\n",
       "\t<li>'C1H1orf198'</li>\n",
       "\t<li>'CAPN9-p'</li>\n",
       "\t<li>'AGT'</li>\n",
       "\t<li>'LOC102130133'</li>\n",
       "\t<li>'MGST3'</li>\n",
       "</ol>\n"
      ],
      "text/latex": [
       "\\begin{enumerate*}\n",
       "\\item 'NID1'\n",
       "\\item 'GNG4'\n",
       "\\item 'IRF2BP2'\n",
       "\\item 'MSTRG.100'\n",
       "\\item 'MSTRG.103'\n",
       "\\item 'C1H1orf198'\n",
       "\\item 'CAPN9-p'\n",
       "\\item 'AGT'\n",
       "\\item 'LOC102130133'\n",
       "\\item 'MGST3'\n",
       "\\end{enumerate*}\n"
      ],
      "text/markdown": [
       "1. 'NID1'\n",
       "2. 'GNG4'\n",
       "3. 'IRF2BP2'\n",
       "4. 'MSTRG.100'\n",
       "5. 'MSTRG.103'\n",
       "6. 'C1H1orf198'\n",
       "7. 'CAPN9-p'\n",
       "8. 'AGT'\n",
       "9. 'LOC102130133'\n",
       "10. 'MGST3'\n",
       "\n",
       "\n"
      ],
      "text/plain": [
       " [1] \"NID1\"         \"GNG4\"         \"IRF2BP2\"      \"MSTRG.100\"    \"MSTRG.103\"   \n",
       " [6] \"C1H1orf198\"   \"CAPN9-p\"      \"AGT\"          \"LOC102130133\" \"MGST3\"       "
      ]
     },
     "metadata": {},
     "output_type": "display_data"
    }
   ],
   "source": [
    "genes_ref_var[1:10]"
   ]
  },
  {
   "cell_type": "code",
   "execution_count": 11,
   "metadata": {},
   "outputs": [],
   "source": [
    "genes_sample<-rownames(seurat_both[['sample']])"
   ]
  },
  {
   "cell_type": "code",
   "execution_count": 13,
   "metadata": {},
   "outputs": [],
   "source": [
    "genes_integration<-intersect(genes_sample,genes_ref_var)"
   ]
  },
  {
   "cell_type": "code",
   "execution_count": 15,
   "metadata": {},
   "outputs": [
    {
     "data": {
      "text/html": [
       "2203"
      ],
      "text/latex": [
       "2203"
      ],
      "text/markdown": [
       "2203"
      ],
      "text/plain": [
       "[1] 2203"
      ]
     },
     "metadata": {},
     "output_type": "display_data"
    }
   ],
   "source": [
    "length(genes_integration)"
   ]
  },
  {
   "cell_type": "code",
   "execution_count": 16,
   "metadata": {},
   "outputs": [
    {
     "data": {
      "text/html": [
       "<ol class=list-inline>\n",
       "\t<li>32738</li>\n",
       "\t<li>11245</li>\n",
       "</ol>\n"
      ],
      "text/latex": [
       "\\begin{enumerate*}\n",
       "\\item 32738\n",
       "\\item 11245\n",
       "\\end{enumerate*}\n"
      ],
      "text/markdown": [
       "1. 32738\n",
       "2. 11245\n",
       "\n",
       "\n"
      ],
      "text/plain": [
       "[1] 32738 11245"
      ]
     },
     "metadata": {},
     "output_type": "display_data"
    }
   ],
   "source": [
    "dim(seurat.obj_h)"
   ]
  },
  {
   "cell_type": "code",
   "execution_count": 17,
   "metadata": {},
   "outputs": [],
   "source": [
    "m<-matrix(c(0,0,1,0), nrow = 2, ncol = 2)"
   ]
  },
  {
   "cell_type": "code",
   "execution_count": 18,
   "metadata": {},
   "outputs": [
    {
     "data": {
      "text/html": [
       "<table>\n",
       "<caption>A matrix: 2 × 2 of type dbl</caption>\n",
       "<tbody>\n",
       "\t<tr><td>0</td><td>1</td></tr>\n",
       "\t<tr><td>0</td><td>0</td></tr>\n",
       "</tbody>\n",
       "</table>\n"
      ],
      "text/latex": [
       "A matrix: 2 × 2 of type dbl\n",
       "\\begin{tabular}{ll}\n",
       "\t 0 & 1\\\\\n",
       "\t 0 & 0\\\\\n",
       "\\end{tabular}\n"
      ],
      "text/markdown": [
       "\n",
       "A matrix: 2 × 2 of type dbl\n",
       "\n",
       "| 0 | 1 |\n",
       "| 0 | 0 |\n",
       "\n"
      ],
      "text/plain": [
       "     [,1] [,2]\n",
       "[1,] 0    1   \n",
       "[2,] 0    0   "
      ]
     },
     "metadata": {},
     "output_type": "display_data"
    }
   ],
   "source": [
    "m"
   ]
  },
  {
   "cell_type": "code",
   "execution_count": 39,
   "metadata": {},
   "outputs": [
    {
     "data": {
      "text/html": [
       "<ol class=list-inline>\n",
       "\t<li>1</li>\n",
       "\t<li>0</li>\n",
       "</ol>\n"
      ],
      "text/latex": [
       "\\begin{enumerate*}\n",
       "\\item 1\n",
       "\\item 0\n",
       "\\end{enumerate*}\n"
      ],
      "text/markdown": [
       "1. 1\n",
       "2. 0\n",
       "\n",
       "\n"
      ],
      "text/plain": [
       "[1] 1 0"
      ]
     },
     "metadata": {},
     "output_type": "display_data"
    }
   ],
   "source": [
    "col_not_null<-colSums(m!=0)\n",
    "keep_cells<-col_not_null>0\n",
    "m[,keep_cells]"
   ]
  },
  {
   "cell_type": "code",
   "execution_count": 35,
   "metadata": {},
   "outputs": [
    {
     "data": {
      "text/html": [
       "<ol class=list-inline>\n",
       "\t<li>0</li>\n",
       "\t<li>1</li>\n",
       "</ol>\n"
      ],
      "text/latex": [
       "\\begin{enumerate*}\n",
       "\\item 0\n",
       "\\item 1\n",
       "\\end{enumerate*}\n"
      ],
      "text/markdown": [
       "1. 0\n",
       "2. 1\n",
       "\n",
       "\n"
      ],
      "text/plain": [
       "[1] 0 1"
      ]
     },
     "metadata": {},
     "output_type": "display_data"
    }
   ],
   "source": [
    "m"
   ]
  },
  {
   "cell_type": "code",
   "execution_count": 8,
   "metadata": {},
   "outputs": [],
   "source": [
    "import numpy as np\n",
    "from sklearn.neighbors import KNeighborsClassifier\n",
    "from collections import OrderedDict\n",
    "from sklearn.metrics import precision_recall_fscore_support as score\n",
    "from sklearn.metrics import roc_auc_score\n",
    "import pandas as pd\n",
    "import h5py\n",
    "\n",
    "import scipy.io\n",
    "\n",
    "\n",
    "from sklearn.linear_model import LogisticRegression"
   ]
  },
  {
   "cell_type": "code",
   "execution_count": 2,
   "metadata": {},
   "outputs": [
    {
     "data": {
      "text/plain": [
       "'0.22'"
      ]
     },
     "execution_count": 2,
     "metadata": {},
     "output_type": "execute_result"
    }
   ],
   "source": [
    "import sklearn\n",
    "sklearn.__version__"
   ]
  },
  {
   "cell_type": "code",
   "execution_count": 19,
   "metadata": {},
   "outputs": [
    {
     "name": "stdout",
     "output_type": "stream",
     "text": [
      "3.7.4\n"
     ]
    }
   ],
   "source": [
    "from platform import python_version\n",
    "\n",
    "print(python_version())"
   ]
  },
  {
   "cell_type": "code",
   "execution_count": 15,
   "metadata": {},
   "outputs": [],
   "source": [
    "m1=np.random.rand(10,2)\n",
    "m2=np.random.rand(10,2)\n",
    "c1=np.random.randint(1,5,10)\n",
    "c2=np.random.randint(1,5,10)"
   ]
  },
  {
   "cell_type": "code",
   "execution_count": 26,
   "metadata": {},
   "outputs": [
    {
     "name": "stdout",
     "output_type": "stream",
     "text": [
      "              class  precision  recall  fscore N true\n",
      "0                 1   0.333333     1.0    0.50      2\n",
      "1                 2   0.333333     1.0    0.50      1\n",
      "2                 3   0.000000     0.0    0.00      4\n",
      "3                 4   0.000000     0.0    0.00      3\n",
      "4  weighted average   0.100000     0.3    0.15   None\n",
      "ROC AUC score (weighted average) 0.6321428571428571\n"
     ]
    },
    {
     "name": "stderr",
     "output_type": "stream",
     "text": [
      "/home/khrovatin/miniconda3/envs/env1/lib/python3.7/site-packages/sklearn/metrics/_classification.py:1268: UndefinedMetricWarning: Precision and F-score are ill-defined and being set to 0.0 in labels with no predicted samples. Use `zero_division` parameter to control this behavior.\n",
      "  _warn_prf(average, modifier, msg_start, len(result))\n"
     ]
    }
   ],
   "source": [
    "\n",
    "\n",
    "classifier = KNeighborsClassifier(weights='distance',n_jobs=4)\n",
    "classifier.fit(m1,c1)\n",
    "prediction=classifier.predict(m2)\n",
    "truth=c2\n",
    "labels=[1,2,3,4]\n",
    "precision, recall, fscore, support = score(y_true=truth, y_pred=prediction,labels=labels)\n",
    "precision_all, recall_all, fscore_all, support_all=score(\n",
    "    y_true=truth, y_pred=prediction,labels=labels,average='weighted')\n",
    "print(pd.DataFrame({'class':np.append(classifier.classes_,'weighted average'),'precision':np.append(precision,precision_all),'recall':np.append(recall,recall_all),\n",
    "                    'fscore':np.append(fscore,fscore_all),\n",
    "                  'N true':np.append(support,support_all)}))\n",
    "prediction_p=classifier.predict_proba(m2)\n",
    "print('ROC AUC score (weighted average)',roc_auc_score(y_true=truth, y_score=prediction_p,multi_class='ovr', average='weighted'))"
   ]
  },
  {
   "cell_type": "code",
   "execution_count": 16,
   "metadata": {},
   "outputs": [
    {
     "data": {
      "text/plain": [
       "array([[0.        , 0.17735374, 0.2734962 , 0.54915006],\n",
       "       [0.        , 0.46258014, 0.38953547, 0.14788439],\n",
       "       [0.        , 0.4298138 , 0.14603594, 0.42415026],\n",
       "       [0.        , 0.41271411, 0.43443305, 0.15285284],\n",
       "       [0.22942029, 0.53123731, 0.        , 0.2393424 ],\n",
       "       [0.        , 0.46811366, 0.        , 0.53188634],\n",
       "       [0.1793045 , 0.58336388, 0.        , 0.23733162],\n",
       "       [0.17445508, 0.25585949, 0.        , 0.56968543],\n",
       "       [0.        , 0.52151673, 0.22719646, 0.25128681],\n",
       "       [0.25058095, 0.29896958, 0.23762105, 0.21282843]])"
      ]
     },
     "execution_count": 16,
     "metadata": {},
     "output_type": "execute_result"
    }
   ],
   "source": [
    "classifier.predict_proba(m2)"
   ]
  },
  {
   "cell_type": "code",
   "execution_count": 18,
   "metadata": {},
   "outputs": [
    {
     "data": {
      "text/plain": [
       "array([1, 2, 3, 4])"
      ]
     },
     "execution_count": 18,
     "metadata": {},
     "output_type": "execute_result"
    }
   ],
   "source": [
    "classifier.classes_"
   ]
  },
  {
   "cell_type": "code",
   "execution_count": 8,
   "metadata": {},
   "outputs": [],
   "source": [
    "m=sp.io.mmread('/share/LBI_share/public/retina/human snRNAseq data_10x_ChenLab_ZupanLab/humansn_10x_storage/00012_NeuNM_filtered_feature_bc_matrix/matrix.mtx.gz')"
   ]
  },
  {
   "cell_type": "code",
   "execution_count": 13,
   "metadata": {},
   "outputs": [
    {
     "ename": "AttributeError",
     "evalue": "'DataFrame' object has no attribute 'tocsc'",
     "output_type": "error",
     "traceback": [
      "\u001b[0;31m---------------------------------------------------------------------------\u001b[0m",
      "\u001b[0;31mAttributeError\u001b[0m                            Traceback (most recent call last)",
      "\u001b[0;32m<ipython-input-13-fad9b8dc5093>\u001b[0m in \u001b[0;36m<module>\u001b[0;34m\u001b[0m\n\u001b[0;32m----> 1\u001b[0;31m \u001b[0mm\u001b[0m\u001b[0;34m=\u001b[0m\u001b[0mpd\u001b[0m\u001b[0;34m.\u001b[0m\u001b[0mDataFrame\u001b[0m\u001b[0;34m.\u001b[0m\u001b[0msparse\u001b[0m\u001b[0;34m.\u001b[0m\u001b[0mfrom_spmatrix\u001b[0m\u001b[0;34m(\u001b[0m\u001b[0mm\u001b[0m\u001b[0;34m)\u001b[0m\u001b[0;34m.\u001b[0m\u001b[0mT\u001b[0m\u001b[0;34m\u001b[0m\u001b[0;34m\u001b[0m\u001b[0m\n\u001b[0m",
      "\u001b[0;32m~/miniconda3/lib/python3.7/site-packages/pandas/core/arrays/sparse.py\u001b[0m in \u001b[0;36mfrom_spmatrix\u001b[0;34m(cls, data, index, columns)\u001b[0m\n\u001b[1;32m   2167\u001b[0m         \u001b[0;32mfrom\u001b[0m \u001b[0mpandas\u001b[0m \u001b[0;32mimport\u001b[0m \u001b[0mDataFrame\u001b[0m\u001b[0;34m\u001b[0m\u001b[0;34m\u001b[0m\u001b[0m\n\u001b[1;32m   2168\u001b[0m \u001b[0;34m\u001b[0m\u001b[0m\n\u001b[0;32m-> 2169\u001b[0;31m         \u001b[0mdata\u001b[0m \u001b[0;34m=\u001b[0m \u001b[0mdata\u001b[0m\u001b[0;34m.\u001b[0m\u001b[0mtocsc\u001b[0m\u001b[0;34m(\u001b[0m\u001b[0;34m)\u001b[0m\u001b[0;34m\u001b[0m\u001b[0;34m\u001b[0m\u001b[0m\n\u001b[0m\u001b[1;32m   2170\u001b[0m         \u001b[0mindex\u001b[0m\u001b[0;34m,\u001b[0m \u001b[0mcolumns\u001b[0m \u001b[0;34m=\u001b[0m \u001b[0mcls\u001b[0m\u001b[0;34m.\u001b[0m\u001b[0m_prep_index\u001b[0m\u001b[0;34m(\u001b[0m\u001b[0mdata\u001b[0m\u001b[0;34m,\u001b[0m \u001b[0mindex\u001b[0m\u001b[0;34m,\u001b[0m \u001b[0mcolumns\u001b[0m\u001b[0;34m)\u001b[0m\u001b[0;34m\u001b[0m\u001b[0;34m\u001b[0m\u001b[0m\n\u001b[1;32m   2171\u001b[0m         \u001b[0msparrays\u001b[0m \u001b[0;34m=\u001b[0m \u001b[0;34m[\u001b[0m\u001b[0mSparseArray\u001b[0m\u001b[0;34m.\u001b[0m\u001b[0mfrom_spmatrix\u001b[0m\u001b[0;34m(\u001b[0m\u001b[0mdata\u001b[0m\u001b[0;34m[\u001b[0m\u001b[0;34m:\u001b[0m\u001b[0;34m,\u001b[0m \u001b[0mi\u001b[0m\u001b[0;34m]\u001b[0m\u001b[0;34m)\u001b[0m \u001b[0;32mfor\u001b[0m \u001b[0mi\u001b[0m \u001b[0;32min\u001b[0m \u001b[0mrange\u001b[0m\u001b[0;34m(\u001b[0m\u001b[0mdata\u001b[0m\u001b[0;34m.\u001b[0m\u001b[0mshape\u001b[0m\u001b[0;34m[\u001b[0m\u001b[0;36m1\u001b[0m\u001b[0;34m]\u001b[0m\u001b[0;34m)\u001b[0m\u001b[0;34m]\u001b[0m\u001b[0;34m\u001b[0m\u001b[0;34m\u001b[0m\u001b[0m\n",
      "\u001b[0;32m~/miniconda3/lib/python3.7/site-packages/pandas/core/generic.py\u001b[0m in \u001b[0;36m__getattr__\u001b[0;34m(self, name)\u001b[0m\n\u001b[1;32m   5177\u001b[0m             \u001b[0;32mif\u001b[0m \u001b[0mself\u001b[0m\u001b[0;34m.\u001b[0m\u001b[0m_info_axis\u001b[0m\u001b[0;34m.\u001b[0m\u001b[0m_can_hold_identifiers_and_holds_name\u001b[0m\u001b[0;34m(\u001b[0m\u001b[0mname\u001b[0m\u001b[0;34m)\u001b[0m\u001b[0;34m:\u001b[0m\u001b[0;34m\u001b[0m\u001b[0;34m\u001b[0m\u001b[0m\n\u001b[1;32m   5178\u001b[0m                 \u001b[0;32mreturn\u001b[0m \u001b[0mself\u001b[0m\u001b[0;34m[\u001b[0m\u001b[0mname\u001b[0m\u001b[0;34m]\u001b[0m\u001b[0;34m\u001b[0m\u001b[0;34m\u001b[0m\u001b[0m\n\u001b[0;32m-> 5179\u001b[0;31m             \u001b[0;32mreturn\u001b[0m \u001b[0mobject\u001b[0m\u001b[0;34m.\u001b[0m\u001b[0m__getattribute__\u001b[0m\u001b[0;34m(\u001b[0m\u001b[0mself\u001b[0m\u001b[0;34m,\u001b[0m \u001b[0mname\u001b[0m\u001b[0;34m)\u001b[0m\u001b[0;34m\u001b[0m\u001b[0;34m\u001b[0m\u001b[0m\n\u001b[0m\u001b[1;32m   5180\u001b[0m \u001b[0;34m\u001b[0m\u001b[0m\n\u001b[1;32m   5181\u001b[0m     \u001b[0;32mdef\u001b[0m \u001b[0m__setattr__\u001b[0m\u001b[0;34m(\u001b[0m\u001b[0mself\u001b[0m\u001b[0;34m,\u001b[0m \u001b[0mname\u001b[0m\u001b[0;34m,\u001b[0m \u001b[0mvalue\u001b[0m\u001b[0;34m)\u001b[0m\u001b[0;34m:\u001b[0m\u001b[0;34m\u001b[0m\u001b[0;34m\u001b[0m\u001b[0m\n",
      "\u001b[0;31mAttributeError\u001b[0m: 'DataFrame' object has no attribute 'tocsc'"
     ]
    }
   ],
   "source": [
    "m=pd.DataFrame.sparse.from_spmatrix(m).T"
   ]
  },
  {
   "cell_type": "code",
   "execution_count": 22,
   "metadata": {},
   "outputs": [],
   "source": [
    "m.columns=pd.read_table('/share/LBI_share/public/retina/human snRNAseq data_10x_ChenLab_ZupanLab/humansn_10x_storage/00012_NeuNM_filtered_feature_bc_matrix/features.tsv.gz',header=None)[1]"
   ]
  },
  {
   "cell_type": "code",
   "execution_count": 25,
   "metadata": {},
   "outputs": [],
   "source": [
    "m.index=pd.read_table('/share/LBI_share/public/retina/human snRNAseq data_10x_ChenLab_ZupanLab/humansn_10x_storage/00012_NeuNM_filtered_feature_bc_matrix/barcodes.tsv.gz',header=None)[0]"
   ]
  },
  {
   "cell_type": "code",
   "execution_count": 26,
   "metadata": {},
   "outputs": [
    {
     "data": {
      "text/html": [
       "<div>\n",
       "<style scoped>\n",
       "    .dataframe tbody tr th:only-of-type {\n",
       "        vertical-align: middle;\n",
       "    }\n",
       "\n",
       "    .dataframe tbody tr th {\n",
       "        vertical-align: top;\n",
       "    }\n",
       "\n",
       "    .dataframe thead th {\n",
       "        text-align: right;\n",
       "    }\n",
       "</style>\n",
       "<table border=\"1\" class=\"dataframe\">\n",
       "  <thead>\n",
       "    <tr style=\"text-align: right;\">\n",
       "      <th>1</th>\n",
       "      <th>MIR1302-10</th>\n",
       "      <th>FAM138A</th>\n",
       "      <th>OR4F5</th>\n",
       "      <th>RP11-34P13.7</th>\n",
       "      <th>RP11-34P13.8</th>\n",
       "      <th>AL627309.1</th>\n",
       "      <th>RP11-34P13.14</th>\n",
       "      <th>RP11-34P13.9</th>\n",
       "      <th>AP006222.2</th>\n",
       "      <th>RP4-669L17.10</th>\n",
       "      <th>...</th>\n",
       "      <th>KIR3DL2</th>\n",
       "      <th>AL590523.1</th>\n",
       "      <th>CT476828.1</th>\n",
       "      <th>PNRC2</th>\n",
       "      <th>SRSF10</th>\n",
       "      <th>AC145205.1</th>\n",
       "      <th>BAGE5</th>\n",
       "      <th>CU459201.1</th>\n",
       "      <th>AC002321.2</th>\n",
       "      <th>AC002321.1</th>\n",
       "    </tr>\n",
       "    <tr>\n",
       "      <th>0</th>\n",
       "      <th></th>\n",
       "      <th></th>\n",
       "      <th></th>\n",
       "      <th></th>\n",
       "      <th></th>\n",
       "      <th></th>\n",
       "      <th></th>\n",
       "      <th></th>\n",
       "      <th></th>\n",
       "      <th></th>\n",
       "      <th></th>\n",
       "      <th></th>\n",
       "      <th></th>\n",
       "      <th></th>\n",
       "      <th></th>\n",
       "      <th></th>\n",
       "      <th></th>\n",
       "      <th></th>\n",
       "      <th></th>\n",
       "      <th></th>\n",
       "      <th></th>\n",
       "    </tr>\n",
       "  </thead>\n",
       "  <tbody>\n",
       "    <tr>\n",
       "      <th>AAACCCAAGAATAACC-1</th>\n",
       "      <td>0</td>\n",
       "      <td>0</td>\n",
       "      <td>0</td>\n",
       "      <td>0</td>\n",
       "      <td>0</td>\n",
       "      <td>0</td>\n",
       "      <td>0</td>\n",
       "      <td>0</td>\n",
       "      <td>0</td>\n",
       "      <td>0</td>\n",
       "      <td>...</td>\n",
       "      <td>0</td>\n",
       "      <td>0</td>\n",
       "      <td>0</td>\n",
       "      <td>0</td>\n",
       "      <td>0</td>\n",
       "      <td>0</td>\n",
       "      <td>0</td>\n",
       "      <td>0</td>\n",
       "      <td>0</td>\n",
       "      <td>0</td>\n",
       "    </tr>\n",
       "    <tr>\n",
       "      <th>AAACCCAAGTCCTGCG-1</th>\n",
       "      <td>0</td>\n",
       "      <td>0</td>\n",
       "      <td>0</td>\n",
       "      <td>0</td>\n",
       "      <td>0</td>\n",
       "      <td>0</td>\n",
       "      <td>0</td>\n",
       "      <td>0</td>\n",
       "      <td>0</td>\n",
       "      <td>0</td>\n",
       "      <td>...</td>\n",
       "      <td>0</td>\n",
       "      <td>0</td>\n",
       "      <td>0</td>\n",
       "      <td>0</td>\n",
       "      <td>0</td>\n",
       "      <td>0</td>\n",
       "      <td>0</td>\n",
       "      <td>0</td>\n",
       "      <td>0</td>\n",
       "      <td>0</td>\n",
       "    </tr>\n",
       "    <tr>\n",
       "      <th>AAACCCAAGTCTAACC-1</th>\n",
       "      <td>0</td>\n",
       "      <td>0</td>\n",
       "      <td>0</td>\n",
       "      <td>0</td>\n",
       "      <td>0</td>\n",
       "      <td>0</td>\n",
       "      <td>0</td>\n",
       "      <td>0</td>\n",
       "      <td>1</td>\n",
       "      <td>0</td>\n",
       "      <td>...</td>\n",
       "      <td>0</td>\n",
       "      <td>0</td>\n",
       "      <td>0</td>\n",
       "      <td>0</td>\n",
       "      <td>0</td>\n",
       "      <td>0</td>\n",
       "      <td>0</td>\n",
       "      <td>0</td>\n",
       "      <td>0</td>\n",
       "      <td>0</td>\n",
       "    </tr>\n",
       "    <tr>\n",
       "      <th>AAACCCACAAGAAACT-1</th>\n",
       "      <td>0</td>\n",
       "      <td>0</td>\n",
       "      <td>0</td>\n",
       "      <td>0</td>\n",
       "      <td>0</td>\n",
       "      <td>0</td>\n",
       "      <td>0</td>\n",
       "      <td>0</td>\n",
       "      <td>0</td>\n",
       "      <td>0</td>\n",
       "      <td>...</td>\n",
       "      <td>0</td>\n",
       "      <td>0</td>\n",
       "      <td>0</td>\n",
       "      <td>0</td>\n",
       "      <td>0</td>\n",
       "      <td>0</td>\n",
       "      <td>0</td>\n",
       "      <td>0</td>\n",
       "      <td>0</td>\n",
       "      <td>0</td>\n",
       "    </tr>\n",
       "    <tr>\n",
       "      <th>AAACCCACAAGAGTAT-1</th>\n",
       "      <td>0</td>\n",
       "      <td>0</td>\n",
       "      <td>0</td>\n",
       "      <td>0</td>\n",
       "      <td>0</td>\n",
       "      <td>0</td>\n",
       "      <td>0</td>\n",
       "      <td>0</td>\n",
       "      <td>0</td>\n",
       "      <td>0</td>\n",
       "      <td>...</td>\n",
       "      <td>0</td>\n",
       "      <td>0</td>\n",
       "      <td>0</td>\n",
       "      <td>0</td>\n",
       "      <td>0</td>\n",
       "      <td>0</td>\n",
       "      <td>0</td>\n",
       "      <td>0</td>\n",
       "      <td>0</td>\n",
       "      <td>0</td>\n",
       "    </tr>\n",
       "    <tr>\n",
       "      <th>...</th>\n",
       "      <td>...</td>\n",
       "      <td>...</td>\n",
       "      <td>...</td>\n",
       "      <td>...</td>\n",
       "      <td>...</td>\n",
       "      <td>...</td>\n",
       "      <td>...</td>\n",
       "      <td>...</td>\n",
       "      <td>...</td>\n",
       "      <td>...</td>\n",
       "      <td>...</td>\n",
       "      <td>...</td>\n",
       "      <td>...</td>\n",
       "      <td>...</td>\n",
       "      <td>...</td>\n",
       "      <td>...</td>\n",
       "      <td>...</td>\n",
       "      <td>...</td>\n",
       "      <td>...</td>\n",
       "      <td>...</td>\n",
       "      <td>...</td>\n",
       "    </tr>\n",
       "    <tr>\n",
       "      <th>TTTGTTGTCACTCGAA-1</th>\n",
       "      <td>0</td>\n",
       "      <td>0</td>\n",
       "      <td>0</td>\n",
       "      <td>0</td>\n",
       "      <td>0</td>\n",
       "      <td>0</td>\n",
       "      <td>0</td>\n",
       "      <td>0</td>\n",
       "      <td>0</td>\n",
       "      <td>0</td>\n",
       "      <td>...</td>\n",
       "      <td>0</td>\n",
       "      <td>0</td>\n",
       "      <td>0</td>\n",
       "      <td>0</td>\n",
       "      <td>1</td>\n",
       "      <td>0</td>\n",
       "      <td>0</td>\n",
       "      <td>0</td>\n",
       "      <td>0</td>\n",
       "      <td>0</td>\n",
       "    </tr>\n",
       "    <tr>\n",
       "      <th>TTTGTTGTCATAAGGA-1</th>\n",
       "      <td>0</td>\n",
       "      <td>0</td>\n",
       "      <td>0</td>\n",
       "      <td>0</td>\n",
       "      <td>0</td>\n",
       "      <td>0</td>\n",
       "      <td>0</td>\n",
       "      <td>0</td>\n",
       "      <td>0</td>\n",
       "      <td>0</td>\n",
       "      <td>...</td>\n",
       "      <td>0</td>\n",
       "      <td>0</td>\n",
       "      <td>0</td>\n",
       "      <td>0</td>\n",
       "      <td>1</td>\n",
       "      <td>0</td>\n",
       "      <td>0</td>\n",
       "      <td>0</td>\n",
       "      <td>0</td>\n",
       "      <td>0</td>\n",
       "    </tr>\n",
       "    <tr>\n",
       "      <th>TTTGTTGTCATGCATG-1</th>\n",
       "      <td>0</td>\n",
       "      <td>0</td>\n",
       "      <td>0</td>\n",
       "      <td>0</td>\n",
       "      <td>0</td>\n",
       "      <td>0</td>\n",
       "      <td>0</td>\n",
       "      <td>0</td>\n",
       "      <td>0</td>\n",
       "      <td>0</td>\n",
       "      <td>...</td>\n",
       "      <td>0</td>\n",
       "      <td>0</td>\n",
       "      <td>0</td>\n",
       "      <td>0</td>\n",
       "      <td>0</td>\n",
       "      <td>0</td>\n",
       "      <td>0</td>\n",
       "      <td>0</td>\n",
       "      <td>0</td>\n",
       "      <td>0</td>\n",
       "    </tr>\n",
       "    <tr>\n",
       "      <th>TTTGTTGTCCCAGGCA-1</th>\n",
       "      <td>0</td>\n",
       "      <td>0</td>\n",
       "      <td>0</td>\n",
       "      <td>0</td>\n",
       "      <td>0</td>\n",
       "      <td>0</td>\n",
       "      <td>0</td>\n",
       "      <td>0</td>\n",
       "      <td>0</td>\n",
       "      <td>0</td>\n",
       "      <td>...</td>\n",
       "      <td>0</td>\n",
       "      <td>0</td>\n",
       "      <td>0</td>\n",
       "      <td>0</td>\n",
       "      <td>0</td>\n",
       "      <td>0</td>\n",
       "      <td>0</td>\n",
       "      <td>0</td>\n",
       "      <td>0</td>\n",
       "      <td>0</td>\n",
       "    </tr>\n",
       "    <tr>\n",
       "      <th>TTTGTTGTCGTGACTA-1</th>\n",
       "      <td>0</td>\n",
       "      <td>0</td>\n",
       "      <td>0</td>\n",
       "      <td>0</td>\n",
       "      <td>0</td>\n",
       "      <td>0</td>\n",
       "      <td>0</td>\n",
       "      <td>0</td>\n",
       "      <td>0</td>\n",
       "      <td>0</td>\n",
       "      <td>...</td>\n",
       "      <td>0</td>\n",
       "      <td>0</td>\n",
       "      <td>0</td>\n",
       "      <td>0</td>\n",
       "      <td>0</td>\n",
       "      <td>0</td>\n",
       "      <td>0</td>\n",
       "      <td>0</td>\n",
       "      <td>0</td>\n",
       "      <td>0</td>\n",
       "    </tr>\n",
       "  </tbody>\n",
       "</table>\n",
       "<p>11245 rows × 32738 columns</p>\n",
       "</div>"
      ],
      "text/plain": [
       "1                   MIR1302-10  FAM138A  OR4F5  RP11-34P13.7  RP11-34P13.8  \\\n",
       "0                                                                            \n",
       "AAACCCAAGAATAACC-1           0        0      0             0             0   \n",
       "AAACCCAAGTCCTGCG-1           0        0      0             0             0   \n",
       "AAACCCAAGTCTAACC-1           0        0      0             0             0   \n",
       "AAACCCACAAGAAACT-1           0        0      0             0             0   \n",
       "AAACCCACAAGAGTAT-1           0        0      0             0             0   \n",
       "...                        ...      ...    ...           ...           ...   \n",
       "TTTGTTGTCACTCGAA-1           0        0      0             0             0   \n",
       "TTTGTTGTCATAAGGA-1           0        0      0             0             0   \n",
       "TTTGTTGTCATGCATG-1           0        0      0             0             0   \n",
       "TTTGTTGTCCCAGGCA-1           0        0      0             0             0   \n",
       "TTTGTTGTCGTGACTA-1           0        0      0             0             0   \n",
       "\n",
       "1                   AL627309.1  RP11-34P13.14  RP11-34P13.9  AP006222.2  \\\n",
       "0                                                                         \n",
       "AAACCCAAGAATAACC-1           0              0             0           0   \n",
       "AAACCCAAGTCCTGCG-1           0              0             0           0   \n",
       "AAACCCAAGTCTAACC-1           0              0             0           1   \n",
       "AAACCCACAAGAAACT-1           0              0             0           0   \n",
       "AAACCCACAAGAGTAT-1           0              0             0           0   \n",
       "...                        ...            ...           ...         ...   \n",
       "TTTGTTGTCACTCGAA-1           0              0             0           0   \n",
       "TTTGTTGTCATAAGGA-1           0              0             0           0   \n",
       "TTTGTTGTCATGCATG-1           0              0             0           0   \n",
       "TTTGTTGTCCCAGGCA-1           0              0             0           0   \n",
       "TTTGTTGTCGTGACTA-1           0              0             0           0   \n",
       "\n",
       "1                   RP4-669L17.10  ...  KIR3DL2  AL590523.1  CT476828.1  \\\n",
       "0                                  ...                                    \n",
       "AAACCCAAGAATAACC-1              0  ...        0           0           0   \n",
       "AAACCCAAGTCCTGCG-1              0  ...        0           0           0   \n",
       "AAACCCAAGTCTAACC-1              0  ...        0           0           0   \n",
       "AAACCCACAAGAAACT-1              0  ...        0           0           0   \n",
       "AAACCCACAAGAGTAT-1              0  ...        0           0           0   \n",
       "...                           ...  ...      ...         ...         ...   \n",
       "TTTGTTGTCACTCGAA-1              0  ...        0           0           0   \n",
       "TTTGTTGTCATAAGGA-1              0  ...        0           0           0   \n",
       "TTTGTTGTCATGCATG-1              0  ...        0           0           0   \n",
       "TTTGTTGTCCCAGGCA-1              0  ...        0           0           0   \n",
       "TTTGTTGTCGTGACTA-1              0  ...        0           0           0   \n",
       "\n",
       "1                   PNRC2  SRSF10  AC145205.1  BAGE5  CU459201.1  AC002321.2  \\\n",
       "0                                                                              \n",
       "AAACCCAAGAATAACC-1      0       0           0      0           0           0   \n",
       "AAACCCAAGTCCTGCG-1      0       0           0      0           0           0   \n",
       "AAACCCAAGTCTAACC-1      0       0           0      0           0           0   \n",
       "AAACCCACAAGAAACT-1      0       0           0      0           0           0   \n",
       "AAACCCACAAGAGTAT-1      0       0           0      0           0           0   \n",
       "...                   ...     ...         ...    ...         ...         ...   \n",
       "TTTGTTGTCACTCGAA-1      0       1           0      0           0           0   \n",
       "TTTGTTGTCATAAGGA-1      0       1           0      0           0           0   \n",
       "TTTGTTGTCATGCATG-1      0       0           0      0           0           0   \n",
       "TTTGTTGTCCCAGGCA-1      0       0           0      0           0           0   \n",
       "TTTGTTGTCGTGACTA-1      0       0           0      0           0           0   \n",
       "\n",
       "1                   AC002321.1  \n",
       "0                               \n",
       "AAACCCAAGAATAACC-1           0  \n",
       "AAACCCAAGTCCTGCG-1           0  \n",
       "AAACCCAAGTCTAACC-1           0  \n",
       "AAACCCACAAGAAACT-1           0  \n",
       "AAACCCACAAGAGTAT-1           0  \n",
       "...                        ...  \n",
       "TTTGTTGTCACTCGAA-1           0  \n",
       "TTTGTTGTCATAAGGA-1           0  \n",
       "TTTGTTGTCATGCATG-1           0  \n",
       "TTTGTTGTCCCAGGCA-1           0  \n",
       "TTTGTTGTCGTGACTA-1           0  \n",
       "\n",
       "[11245 rows x 32738 columns]"
      ]
     },
     "execution_count": 26,
     "metadata": {},
     "output_type": "execute_result"
    }
   ],
   "source": [
    "m"
   ]
  },
  {
   "cell_type": "code",
   "execution_count": 16,
   "metadata": {},
   "outputs": [],
   "source": [
    "data_path='/home/khrovatin/retinal/data/counts/'\n",
    "with h5py.File(data_path+'normalisedlog.h5','r') as file:    \n",
    "    data_norm=pd.DataFrame(file.get('ref/matrix')[:200,:])\n",
    "    data_norm.columns=[name.decode() for name in file.get('ref/rownames')]\n",
    "    data_norm.index=[name.decode() for name in file.get('ref/colnames')[:200]]\n",
    "    \n",
    "    data_norm_h=pd.DataFrame(file.get('00012_NeuNM/matrix')[:200,:])\n",
    "    data_norm_h.columns=[name.decode() for name in file.get('00012_NeuNM/rownames')]\n",
    "    data_norm_h.index=[name.decode() for name in file.get('00012_NeuNM/colnames')[:200]]"
   ]
  },
  {
   "cell_type": "code",
   "execution_count": 7,
   "metadata": {},
   "outputs": [],
   "source": [
    "col_data=pd.read_table(data_path+'passedQC_cellData.tsv',index_col=0)\n",
    "col_by_region=col_data.groupby('region')\n",
    "fov_cells=col_by_region.get_group('fov').index\n",
    "per_cells=col_by_region.get_group('per').index"
   ]
  },
  {
   "cell_type": "code",
   "execution_count": 23,
   "metadata": {},
   "outputs": [
    {
     "name": "stderr",
     "output_type": "stream",
     "text": [
      "/home/khrovatin/miniconda3/envs/env1/lib/python3.7/site-packages/sklearn/linear_model/_sag.py:330: ConvergenceWarning: The max_iter was reached which means the coef_ did not converge\n",
      "  \"the coef_ did not converge\", ConvergenceWarning)\n"
     ]
    }
   ],
   "source": [
    "log_reg=LogisticRegression(penalty='l1',C=0.8,random_state=0,solver='saga',n_jobs=4).fit(\n",
    "    data_norm, col_data.iloc[np.random.randint(1,150000,200),:]['cell_type'])"
   ]
  },
  {
   "cell_type": "code",
   "execution_count": 58,
   "metadata": {},
   "outputs": [],
   "source": [
    "def make_log_regression(data1,data2,col_data,label='cell_type',\n",
    "                        logreg={'penalty':'l1','C':0.8,'random_state':0,'solver':'saga','n_jobs':8}):\n",
    "    log_reg=LogisticRegression(**logreg).fit(data1, col_data.loc[data1.index,label])\n",
    "    print('** Statistics train **')\n",
    "    evaluate_classifier(classifier=log_reg,data=data1,col_data=col_data,label=label)\n",
    "    print('** Statistics test **')\n",
    "    evaluate_classifier(classifier=log_reg,data=data2,col_data=col_data,label=label)\n",
    "    return log_reg\n",
    "    \n",
    "    \n",
    "def evaluate_classifier(classifier,data,col_data,label):\n",
    "    prediction=classifier.predict(data)\n",
    "    truth=col_data.loc[data.index,label].values\n",
    "    labels=list(set(col_data.loc[data.index,label]))\n",
    "    precision, recall, fscore, support = score(y_true=truth, y_pred=prediction,labels=labels)\n",
    "    precision_all, recall_all, fscore_all, support_all=score(\n",
    "        y_true=truth, y_pred=prediction,labels=labels,average='weighted')\n",
    "    print(pd.DataFrame({'class':np.append(classifier.classes_,\n",
    "               'weighted average'),'precision':np.append(precision,precision_all),\n",
    "             'recall':np.append(recall,recall_all),\n",
    "             'fscore':np.append(fscore,fscore_all),\n",
    "            'N true':np.append(support,support_all)}))\n",
    "    prediction_p=classifier.predict_proba(data)\n",
    "    print('ROC AUC score (weighted average)',roc_auc_score(y_true=truth, y_score=prediction_p,\n",
    "                                                           multi_class='ovr', average='weighted'))\n"
   ]
  },
  {
   "cell_type": "code",
   "execution_count": 60,
   "metadata": {},
   "outputs": [
    {
     "name": "stdout",
     "output_type": "stream",
     "text": [
      "** Statistics train **\n",
      "              class  precision  recall  fscore N true\n",
      "0                 a        1.0     1.0     1.0     50\n",
      "1                 b        1.0     1.0     1.0     50\n",
      "2                 c        1.0     1.0     1.0     50\n",
      "3                 d        1.0     1.0     1.0     50\n",
      "4  weighted average        1.0     1.0     1.0   None\n",
      "ROC AUC score (weighted average) 1.0\n",
      "** Statistics test **\n",
      "              class  precision  recall  fscore N true\n",
      "0                 a        1.0     1.0     1.0     50\n",
      "1                 b        1.0     1.0     1.0     50\n",
      "2                 c        1.0     1.0     1.0     50\n",
      "3                 d        1.0     1.0     1.0     50\n",
      "4  weighted average        1.0     1.0     1.0   None\n",
      "ROC AUC score (weighted average) 1.0\n"
     ]
    },
    {
     "name": "stderr",
     "output_type": "stream",
     "text": [
      "/home/khrovatin/miniconda3/envs/env1/lib/python3.7/site-packages/sklearn/linear_model/_sag.py:330: ConvergenceWarning: The max_iter was reached which means the coef_ did not converge\n",
      "  \"the coef_ did not converge\", ConvergenceWarning)\n"
     ]
    }
   ],
   "source": [
    "classifier=make_log_regression(data_norm,data_norm,pd.DataFrame(['a','b','c','d']*50,index=data_norm.index),label=0)"
   ]
  },
  {
   "cell_type": "code",
   "execution_count": 43,
   "metadata": {},
   "outputs": [],
   "source": [
    "#data_norm,data_norm,pd.DataFrame(['a','b']*100,index=data_norm.index),label=0\n",
    "cd=pd.DataFrame(['a','b']*100,index=data_norm.index)"
   ]
  },
  {
   "cell_type": "code",
   "execution_count": 57,
   "metadata": {},
   "outputs": [
    {
     "name": "stdout",
     "output_type": "stream",
     "text": [
      "['a' 'b' 'a' 'b' 'a' 'b' 'a' 'b' 'a' 'b' 'a' 'b' 'a' 'b' 'a' 'b' 'a' 'b'\n",
      " 'a' 'b' 'a' 'b' 'a' 'b' 'a' 'b' 'a' 'b' 'a' 'b' 'a' 'b' 'a' 'b' 'a' 'b'\n",
      " 'a' 'b' 'a' 'b' 'a' 'b' 'a' 'b' 'a' 'b' 'a' 'b' 'a' 'b' 'a' 'b' 'a' 'b'\n",
      " 'a' 'b' 'a' 'b' 'a' 'b' 'a' 'b' 'a' 'b' 'a' 'b' 'a' 'b' 'a' 'b' 'a' 'b'\n",
      " 'a' 'b' 'a' 'b' 'a' 'b' 'a' 'b' 'a' 'b' 'a' 'b' 'a' 'b' 'a' 'b' 'a' 'b'\n",
      " 'a' 'b' 'a' 'b' 'a' 'b' 'a' 'b' 'a' 'b' 'a' 'b' 'a' 'b' 'a' 'b' 'a' 'b'\n",
      " 'a' 'b' 'a' 'b' 'a' 'b' 'a' 'b' 'a' 'b' 'a' 'b' 'a' 'b' 'a' 'b' 'a' 'b'\n",
      " 'a' 'b' 'a' 'b' 'a' 'b' 'a' 'b' 'a' 'b' 'a' 'b' 'a' 'b' 'a' 'b' 'a' 'b'\n",
      " 'a' 'b' 'a' 'b' 'a' 'b' 'a' 'b' 'a' 'b' 'a' 'b' 'a' 'b' 'a' 'b' 'a' 'b'\n",
      " 'a' 'b' 'a' 'b' 'a' 'b' 'a' 'b' 'a' 'b' 'a' 'b' 'a' 'b' 'a' 'b' 'a' 'b'\n",
      " 'a' 'b' 'a' 'b' 'a' 'b' 'a' 'b' 'a' 'b' 'a' 'b' 'a' 'b' 'a' 'b' 'a' 'b'\n",
      " 'a' 'b']\n"
     ]
    },
    {
     "data": {
      "text/plain": [
       "array([[0.93753288, 0.06246712],\n",
       "       [0.02803859, 0.97196141],\n",
       "       [0.9527823 , 0.0472177 ],\n",
       "       [0.0424855 , 0.9575145 ],\n",
       "       [0.92324171, 0.07675829],\n",
       "       [0.03089597, 0.96910403],\n",
       "       [0.95169514, 0.04830486],\n",
       "       [0.0848331 , 0.9151669 ],\n",
       "       [0.97570842, 0.02429158],\n",
       "       [0.03544931, 0.96455069],\n",
       "       [0.97084811, 0.02915189],\n",
       "       [0.06640527, 0.93359473],\n",
       "       [0.9688183 , 0.0311817 ],\n",
       "       [0.05811448, 0.94188552],\n",
       "       [0.96134202, 0.03865798],\n",
       "       [0.01936887, 0.98063113],\n",
       "       [0.97305821, 0.02694179],\n",
       "       [0.04979218, 0.95020782],\n",
       "       [0.92294938, 0.07705062],\n",
       "       [0.03569416, 0.96430584],\n",
       "       [0.9517601 , 0.0482399 ],\n",
       "       [0.07005032, 0.92994968],\n",
       "       [0.97736309, 0.02263691],\n",
       "       [0.06360856, 0.93639144],\n",
       "       [0.96569709, 0.03430291],\n",
       "       [0.06834536, 0.93165464],\n",
       "       [0.98219738, 0.01780262],\n",
       "       [0.01794815, 0.98205185],\n",
       "       [0.94188285, 0.05811715],\n",
       "       [0.07752903, 0.92247097],\n",
       "       [0.99083926, 0.00916074],\n",
       "       [0.04501801, 0.95498199],\n",
       "       [0.96810291, 0.03189709],\n",
       "       [0.00888289, 0.99111711],\n",
       "       [0.95389362, 0.04610638],\n",
       "       [0.07032672, 0.92967328],\n",
       "       [0.92691811, 0.07308189],\n",
       "       [0.04785399, 0.95214601],\n",
       "       [0.95774748, 0.04225252],\n",
       "       [0.03375948, 0.96624052],\n",
       "       [0.96739741, 0.03260259],\n",
       "       [0.04199098, 0.95800902],\n",
       "       [0.97196233, 0.02803767],\n",
       "       [0.07696123, 0.92303877],\n",
       "       [0.96008932, 0.03991068],\n",
       "       [0.02845476, 0.97154524],\n",
       "       [0.92637427, 0.07362573],\n",
       "       [0.07376866, 0.92623134],\n",
       "       [0.9529014 , 0.0470986 ],\n",
       "       [0.09041175, 0.90958825],\n",
       "       [0.95092067, 0.04907933],\n",
       "       [0.0080718 , 0.9919282 ],\n",
       "       [0.99179803, 0.00820197],\n",
       "       [0.04841384, 0.95158616],\n",
       "       [0.96079679, 0.03920321],\n",
       "       [0.02659942, 0.97340058],\n",
       "       [0.93709674, 0.06290326],\n",
       "       [0.03108557, 0.96891443],\n",
       "       [0.94077225, 0.05922775],\n",
       "       [0.0413304 , 0.9586696 ],\n",
       "       [0.97834061, 0.02165939],\n",
       "       [0.03521198, 0.96478802],\n",
       "       [0.9579616 , 0.0420384 ],\n",
       "       [0.00919625, 0.99080375],\n",
       "       [0.94736988, 0.05263012],\n",
       "       [0.0819543 , 0.9180457 ],\n",
       "       [0.91580544, 0.08419456],\n",
       "       [0.00269324, 0.99730676],\n",
       "       [0.95375319, 0.04624681],\n",
       "       [0.01307587, 0.98692413],\n",
       "       [0.9337    , 0.0663    ],\n",
       "       [0.00428545, 0.99571455],\n",
       "       [0.95020677, 0.04979323],\n",
       "       [0.08689338, 0.91310662],\n",
       "       [0.95733099, 0.04266901],\n",
       "       [0.04788317, 0.95211683],\n",
       "       [0.97928203, 0.02071797],\n",
       "       [0.01557583, 0.98442417],\n",
       "       [0.94487841, 0.05512159],\n",
       "       [0.04778733, 0.95221267],\n",
       "       [0.98358476, 0.01641524],\n",
       "       [0.05979326, 0.94020674],\n",
       "       [0.98959196, 0.01040804],\n",
       "       [0.03248466, 0.96751534],\n",
       "       [0.95215055, 0.04784945],\n",
       "       [0.00826213, 0.99173787],\n",
       "       [0.90350061, 0.09649939],\n",
       "       [0.07949893, 0.92050107],\n",
       "       [0.92197425, 0.07802575],\n",
       "       [0.0381437 , 0.9618563 ],\n",
       "       [0.99824689, 0.00175311],\n",
       "       [0.00457271, 0.99542729],\n",
       "       [0.90149955, 0.09850045],\n",
       "       [0.03664436, 0.96335564],\n",
       "       [0.980489  , 0.019511  ],\n",
       "       [0.0570752 , 0.9429248 ],\n",
       "       [0.96758517, 0.03241483],\n",
       "       [0.04974727, 0.95025273],\n",
       "       [0.92584528, 0.07415472],\n",
       "       [0.05384112, 0.94615888],\n",
       "       [0.97037265, 0.02962735],\n",
       "       [0.07970298, 0.92029702],\n",
       "       [0.95748564, 0.04251436],\n",
       "       [0.04065167, 0.95934833],\n",
       "       [0.91342764, 0.08657236],\n",
       "       [0.04841909, 0.95158091],\n",
       "       [0.95608838, 0.04391162],\n",
       "       [0.07271074, 0.92728926],\n",
       "       [0.92939319, 0.07060681],\n",
       "       [0.076816  , 0.923184  ],\n",
       "       [0.97111335, 0.02888665],\n",
       "       [0.02889545, 0.97110455],\n",
       "       [0.97650422, 0.02349578],\n",
       "       [0.03921979, 0.96078021],\n",
       "       [0.9719326 , 0.0280674 ],\n",
       "       [0.06429293, 0.93570707],\n",
       "       [0.93757971, 0.06242029],\n",
       "       [0.02991038, 0.97008962],\n",
       "       [0.96712702, 0.03287298],\n",
       "       [0.078886  , 0.921114  ],\n",
       "       [0.97884936, 0.02115064],\n",
       "       [0.02541678, 0.97458322],\n",
       "       [0.9694435 , 0.0305565 ],\n",
       "       [0.02701581, 0.97298419],\n",
       "       [0.93645415, 0.06354585],\n",
       "       [0.09266306, 0.90733694],\n",
       "       [0.97885023, 0.02114977],\n",
       "       [0.05981317, 0.94018683],\n",
       "       [0.95881566, 0.04118434],\n",
       "       [0.06670471, 0.93329529],\n",
       "       [0.96625555, 0.03374445],\n",
       "       [0.07154169, 0.92845831],\n",
       "       [0.93699542, 0.06300458],\n",
       "       [0.05716986, 0.94283014],\n",
       "       [0.93167166, 0.06832834],\n",
       "       [0.04947357, 0.95052643],\n",
       "       [0.94556099, 0.05443901],\n",
       "       [0.03796989, 0.96203011],\n",
       "       [0.95796802, 0.04203198],\n",
       "       [0.05022194, 0.94977806],\n",
       "       [0.95558131, 0.04441869],\n",
       "       [0.05857622, 0.94142378],\n",
       "       [0.95113351, 0.04886649],\n",
       "       [0.01765999, 0.98234001],\n",
       "       [0.94416977, 0.05583023],\n",
       "       [0.03378335, 0.96621665],\n",
       "       [0.89641447, 0.10358553],\n",
       "       [0.09291152, 0.90708848],\n",
       "       [0.97165983, 0.02834017],\n",
       "       [0.07943033, 0.92056967],\n",
       "       [0.8801732 , 0.1198268 ],\n",
       "       [0.03400715, 0.96599285],\n",
       "       [0.95223736, 0.04776264],\n",
       "       [0.05672144, 0.94327856],\n",
       "       [0.92987134, 0.07012866],\n",
       "       [0.0355866 , 0.9644134 ],\n",
       "       [0.96123549, 0.03876451],\n",
       "       [0.03006619, 0.96993381],\n",
       "       [0.95602483, 0.04397517],\n",
       "       [0.02383567, 0.97616433],\n",
       "       [0.99358257, 0.00641743],\n",
       "       [0.03765135, 0.96234865],\n",
       "       [0.97299102, 0.02700898],\n",
       "       [0.01422616, 0.98577384],\n",
       "       [0.94800572, 0.05199428],\n",
       "       [0.01667387, 0.98332613],\n",
       "       [0.98003051, 0.01996949],\n",
       "       [0.0098558 , 0.9901442 ],\n",
       "       [0.96657559, 0.03342441],\n",
       "       [0.07355719, 0.92644281],\n",
       "       [0.96071571, 0.03928429],\n",
       "       [0.01446636, 0.98553364],\n",
       "       [0.95907552, 0.04092448],\n",
       "       [0.05022477, 0.94977523],\n",
       "       [0.94244684, 0.05755316],\n",
       "       [0.06243805, 0.93756195],\n",
       "       [0.95594343, 0.04405657],\n",
       "       [0.05858905, 0.94141095],\n",
       "       [0.96792316, 0.03207684],\n",
       "       [0.00812754, 0.99187246],\n",
       "       [0.98381589, 0.01618411],\n",
       "       [0.09461801, 0.90538199],\n",
       "       [0.95887143, 0.04112857],\n",
       "       [0.03168487, 0.96831513],\n",
       "       [0.99660383, 0.00339617],\n",
       "       [0.02382321, 0.97617679],\n",
       "       [0.97140156, 0.02859844],\n",
       "       [0.12787107, 0.87212893],\n",
       "       [0.93164894, 0.06835106],\n",
       "       [0.02507904, 0.97492096],\n",
       "       [0.9285652 , 0.0714348 ],\n",
       "       [0.03874811, 0.96125189],\n",
       "       [0.90839507, 0.09160493],\n",
       "       [0.04195622, 0.95804378],\n",
       "       [0.93875605, 0.06124395],\n",
       "       [0.0120233 , 0.9879767 ],\n",
       "       [0.91114024, 0.08885976],\n",
       "       [0.0097462 , 0.9902538 ],\n",
       "       [0.95001467, 0.04998533],\n",
       "       [0.07022055, 0.92977945]])"
      ]
     },
     "execution_count": 57,
     "metadata": {},
     "output_type": "execute_result"
    }
   ],
   "source": [
    "label=0\n",
    "truth=cd.loc[data_norm.index,label].values\n",
    "print(truth)\n",
    "labels=list(set(cd.loc[data_norm.index,label]))\n",
    "labels\n",
    "prediction_p=classifier.predict_proba(data_norm)\n",
    "prediction_p\n",
    "#print('ROC AUC score (weighted average)',roc_auc_score(y_true=truth, y_score=prediction_p,\n",
    "#                                                           multi_class='ovr', average='weighted'))\n"
   ]
  },
  {
   "cell_type": "code",
   "execution_count": 34,
   "metadata": {},
   "outputs": [
    {
     "data": {
      "text/html": [
       "<div>\n",
       "<style scoped>\n",
       "    .dataframe tbody tr th:only-of-type {\n",
       "        vertical-align: middle;\n",
       "    }\n",
       "\n",
       "    .dataframe tbody tr th {\n",
       "        vertical-align: top;\n",
       "    }\n",
       "\n",
       "    .dataframe thead th {\n",
       "        text-align: right;\n",
       "    }\n",
       "</style>\n",
       "<table border=\"1\" class=\"dataframe\">\n",
       "  <thead>\n",
       "    <tr style=\"text-align: right;\">\n",
       "      <th></th>\n",
       "      <th>0</th>\n",
       "    </tr>\n",
       "  </thead>\n",
       "  <tbody>\n",
       "    <tr>\n",
       "      <th>M1CD90PNA_S1_AACTGGTAGTGGTCCC.1</th>\n",
       "      <td>a</td>\n",
       "    </tr>\n",
       "    <tr>\n",
       "      <th>M1CD90PNA_S1_AAGACCTTCTCTTATG.1</th>\n",
       "      <td>b</td>\n",
       "    </tr>\n",
       "    <tr>\n",
       "      <th>M1CD90PNA_S1_AAGGAGCAGTAGGCCA.1</th>\n",
       "      <td>a</td>\n",
       "    </tr>\n",
       "    <tr>\n",
       "      <th>M1CD90PNA_S1_AAGGTTCAGAGTCGGT.1</th>\n",
       "      <td>b</td>\n",
       "    </tr>\n",
       "    <tr>\n",
       "      <th>M1CD90PNA_S1_AAGTCTGCACGCCAGT.1</th>\n",
       "      <td>a</td>\n",
       "    </tr>\n",
       "    <tr>\n",
       "      <th>...</th>\n",
       "      <td>...</td>\n",
       "    </tr>\n",
       "    <tr>\n",
       "      <th>M1PerCD73S1_AAACGGGAGGCCCTCA.1</th>\n",
       "      <td>b</td>\n",
       "    </tr>\n",
       "    <tr>\n",
       "      <th>M1PerCD73S1_AAACGGGAGGCTATCT.1</th>\n",
       "      <td>a</td>\n",
       "    </tr>\n",
       "    <tr>\n",
       "      <th>M1PerCD73S1_AAAGATGTCAGCGACC.1</th>\n",
       "      <td>b</td>\n",
       "    </tr>\n",
       "    <tr>\n",
       "      <th>M1PerCD73S1_AAAGCAAAGGACAGAA.1</th>\n",
       "      <td>a</td>\n",
       "    </tr>\n",
       "    <tr>\n",
       "      <th>M1PerCD73S1_AAAGCAACAGTTCCCT.1</th>\n",
       "      <td>b</td>\n",
       "    </tr>\n",
       "  </tbody>\n",
       "</table>\n",
       "<p>200 rows × 1 columns</p>\n",
       "</div>"
      ],
      "text/plain": [
       "                                 0\n",
       "M1CD90PNA_S1_AACTGGTAGTGGTCCC.1  a\n",
       "M1CD90PNA_S1_AAGACCTTCTCTTATG.1  b\n",
       "M1CD90PNA_S1_AAGGAGCAGTAGGCCA.1  a\n",
       "M1CD90PNA_S1_AAGGTTCAGAGTCGGT.1  b\n",
       "M1CD90PNA_S1_AAGTCTGCACGCCAGT.1  a\n",
       "...                             ..\n",
       "M1PerCD73S1_AAACGGGAGGCCCTCA.1   b\n",
       "M1PerCD73S1_AAACGGGAGGCTATCT.1   a\n",
       "M1PerCD73S1_AAAGATGTCAGCGACC.1   b\n",
       "M1PerCD73S1_AAAGCAAAGGACAGAA.1   a\n",
       "M1PerCD73S1_AAAGCAACAGTTCCCT.1   b\n",
       "\n",
       "[200 rows x 1 columns]"
      ]
     },
     "execution_count": 34,
     "metadata": {},
     "output_type": "execute_result"
    }
   ],
   "source": [
    "pd.DataFrame(['a','b']*100,index=data_norm.index)"
   ]
  },
  {
   "cell_type": "code",
   "execution_count": null,
   "metadata": {},
   "outputs": [],
   "source": []
  }
 ],
 "metadata": {
  "kernelspec": {
   "display_name": "Python 3",
   "language": "python",
   "name": "python3"
  },
  "language_info": {
   "codemirror_mode": {
    "name": "ipython",
    "version": 3
   },
   "file_extension": ".py",
   "mimetype": "text/x-python",
   "name": "python",
   "nbconvert_exporter": "python",
   "pygments_lexer": "ipython3",
   "version": "3.7.5"
  }
 },
 "nbformat": 4,
 "nbformat_minor": 2
}
