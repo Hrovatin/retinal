{
 "cells": [
  {
   "cell_type": "markdown",
   "metadata": {},
   "source": [
    "# Comparison of cell plotting with all variable genes or only those genes that have a recognized symbol (UMAP, R)"
   ]
  },
  {
   "cell_type": "code",
   "execution_count": null,
   "metadata": {},
   "outputs": [],
   "source": [
    "library('Seurat')\n",
    "library('biomaRt')"
   ]
  },
  {
   "cell_type": "code",
   "execution_count": null,
   "metadata": {},
   "outputs": [],
   "source": [
    "seurat.obj<-readRDS('scaled_integrated.rds')"
   ]
  },
  {
   "cell_type": "code",
   "execution_count": null,
   "metadata": {},
   "outputs": [],
   "source": [
    "residuals<-GetAssayData(object = seurat.obj, slot = \"scale.data\")"
   ]
  },
  {
   "cell_type": "code",
   "execution_count": null,
   "metadata": {},
   "outputs": [],
   "source": [
    "variable_genes<-rownames(residuals)"
   ]
  },
  {
   "cell_type": "code",
   "execution_count": null,
   "metadata": {},
   "outputs": [],
   "source": [
    "ensembl = useMart(\"ensembl\",dataset=\"mfascicularis_gene_ensembl\")"
   ]
  },
  {
   "cell_type": "code",
   "execution_count": null,
   "metadata": {},
   "outputs": [],
   "source": [
    "hgnc_symbol<-getBM(attributes=c('ensembl_gene_id','hgnc_symbol'), \n",
    "                       filters = 'hgnc_symbol', \n",
    "                       values = variable_genes, \n",
    "                       mart =ensembl)"
   ]
  },
  {
   "cell_type": "code",
   "execution_count": null,
   "metadata": {},
   "outputs": [],
   "source": [
    "print(paste('N variable genes:',length(variable_genes)))\n",
    "print(paste('N variable genes with recognized symbol:', dim(hgnc_symbol)[1]))"
   ]
  },
  {
   "cell_type": "code",
   "execution_count": null,
   "metadata": {},
   "outputs": [],
   "source": [
    "all_genes<-read.table('passedQC_genes.tsv',sep='\\t',header=TRUE)$rownames"
   ]
  },
  {
   "cell_type": "code",
   "execution_count": null,
   "metadata": {},
   "outputs": [],
   "source": [
    "hgnc_symbol_all<-getBM(attributes=c('hgnc_symbol'), \n",
    "                       filters = 'hgnc_symbol', \n",
    "                       values = all_genes, \n",
    "                       mart =ensembl)"
   ]
  },
  {
   "cell_type": "code",
   "execution_count": null,
   "metadata": {},
   "outputs": [],
   "source": [
    "print(paste('N all genes that passed QC:',length(all_genes)))\n",
    "print(paste('N all genes that passed QC with recognized symbol:', dim(hgnc_symbol_all)[1]))"
   ]
  },
  {
   "cell_type": "markdown",
   "metadata": {},
   "source": [
    "# Comparison of plots with all/ensembl ID genes"
   ]
  },
  {
   "cell_type": "code",
   "execution_count": null,
   "metadata": {},
   "outputs": [],
   "source": [
    "options(repr.plot.width=15, repr.plot.height=7)"
   ]
  },
  {
   "cell_type": "code",
   "execution_count": null,
   "metadata": {},
   "outputs": [],
   "source": [
    "DimPlot(seurat.obj,group.by=c('region','cell_type'))"
   ]
  },
  {
   "cell_type": "code",
   "execution_count": null,
   "metadata": {},
   "outputs": [],
   "source": [
    "seurat.obj_EID<-RunPCA(seurat.obj,verbose=FALSE,npcs = 100,features=hgnc_symbol$hgnc_symbol)\n",
    "seurat.obj_EID<-RunUMAP(seurat.obj_EID,dims=1:16,verbose=FALSE,min.dist=0.1)\n",
    "DimPlot(seurat.obj_EID,group.by=c('region','cell_type'))"
   ]
  },
  {
   "cell_type": "markdown",
   "metadata": {},
   "source": [
    "Smaller number of used features (genes) leads to reduced resolution of UMAP plots."
   ]
  },
  {
   "cell_type": "code",
   "execution_count": null,
   "metadata": {},
   "outputs": [],
   "source": []
  }
 ],
 "metadata": {
  "kernelspec": {
   "display_name": "R",
   "language": "R",
   "name": "ir"
  },
  "language_info": {
   "codemirror_mode": "r",
   "file_extension": ".r",
   "mimetype": "text/x-r-source",
   "name": "R",
   "pygments_lexer": "r",
   "version": "3.6.1"
  }
 },
 "nbformat": 4,
 "nbformat_minor": 2
}
